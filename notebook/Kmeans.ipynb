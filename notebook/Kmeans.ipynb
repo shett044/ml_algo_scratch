{
 "cells": [
  {
   "cell_type": "code",
   "execution_count": 157,
   "id": "5ec2d743",
   "metadata": {
    "ExecuteTime": {
     "end_time": "2021-08-29T17:26:37.423237Z",
     "start_time": "2021-08-29T17:26:37.419591Z"
    }
   },
   "outputs": [],
   "source": [
    "import pandas as pd\n",
    "import numpy as np\n",
    "\n",
    "import matplotlib.pyplot as plt\n",
    "\n",
    "from sklearn import datasets\n",
    "from sklearn.decomposition import PCA"
   ]
  },
  {
   "cell_type": "markdown",
   "id": "f64f6c8e",
   "metadata": {},
   "source": [
    "## Data understanding"
   ]
  },
  {
   "cell_type": "code",
   "execution_count": 158,
   "id": "47f913a8",
   "metadata": {
    "ExecuteTime": {
     "end_time": "2021-08-29T17:26:37.939696Z",
     "start_time": "2021-08-29T17:26:37.934132Z"
    }
   },
   "outputs": [],
   "source": [
    "iris = datasets.load_iris()"
   ]
  },
  {
   "cell_type": "code",
   "execution_count": 159,
   "id": "6aa35204",
   "metadata": {
    "ExecuteTime": {
     "end_time": "2021-08-29T17:26:38.188395Z",
     "start_time": "2021-08-29T17:26:38.184896Z"
    }
   },
   "outputs": [],
   "source": [
    "iris_df = pd.DataFrame(iris.data, columns= iris.feature_names)"
   ]
  },
  {
   "cell_type": "code",
   "execution_count": 160,
   "id": "8ee6502f",
   "metadata": {
    "ExecuteTime": {
     "end_time": "2021-08-29T17:26:38.616625Z",
     "start_time": "2021-08-29T17:26:38.596221Z"
    }
   },
   "outputs": [
    {
     "data": {
      "text/html": [
       "<div>\n",
       "<style scoped>\n",
       "    .dataframe tbody tr th:only-of-type {\n",
       "        vertical-align: middle;\n",
       "    }\n",
       "\n",
       "    .dataframe tbody tr th {\n",
       "        vertical-align: top;\n",
       "    }\n",
       "\n",
       "    .dataframe thead th {\n",
       "        text-align: right;\n",
       "    }\n",
       "</style>\n",
       "<table border=\"1\" class=\"dataframe\">\n",
       "  <thead>\n",
       "    <tr style=\"text-align: right;\">\n",
       "      <th></th>\n",
       "      <th>sepal length (cm)</th>\n",
       "      <th>sepal width (cm)</th>\n",
       "      <th>petal length (cm)</th>\n",
       "      <th>petal width (cm)</th>\n",
       "    </tr>\n",
       "  </thead>\n",
       "  <tbody>\n",
       "    <tr>\n",
       "      <th>count</th>\n",
       "      <td>150.000000</td>\n",
       "      <td>150.000000</td>\n",
       "      <td>150.000000</td>\n",
       "      <td>150.000000</td>\n",
       "    </tr>\n",
       "    <tr>\n",
       "      <th>mean</th>\n",
       "      <td>5.843333</td>\n",
       "      <td>3.057333</td>\n",
       "      <td>3.758000</td>\n",
       "      <td>1.199333</td>\n",
       "    </tr>\n",
       "    <tr>\n",
       "      <th>std</th>\n",
       "      <td>0.828066</td>\n",
       "      <td>0.435866</td>\n",
       "      <td>1.765298</td>\n",
       "      <td>0.762238</td>\n",
       "    </tr>\n",
       "    <tr>\n",
       "      <th>min</th>\n",
       "      <td>4.300000</td>\n",
       "      <td>2.000000</td>\n",
       "      <td>1.000000</td>\n",
       "      <td>0.100000</td>\n",
       "    </tr>\n",
       "    <tr>\n",
       "      <th>25%</th>\n",
       "      <td>5.100000</td>\n",
       "      <td>2.800000</td>\n",
       "      <td>1.600000</td>\n",
       "      <td>0.300000</td>\n",
       "    </tr>\n",
       "    <tr>\n",
       "      <th>50%</th>\n",
       "      <td>5.800000</td>\n",
       "      <td>3.000000</td>\n",
       "      <td>4.350000</td>\n",
       "      <td>1.300000</td>\n",
       "    </tr>\n",
       "    <tr>\n",
       "      <th>75%</th>\n",
       "      <td>6.400000</td>\n",
       "      <td>3.300000</td>\n",
       "      <td>5.100000</td>\n",
       "      <td>1.800000</td>\n",
       "    </tr>\n",
       "    <tr>\n",
       "      <th>max</th>\n",
       "      <td>7.900000</td>\n",
       "      <td>4.400000</td>\n",
       "      <td>6.900000</td>\n",
       "      <td>2.500000</td>\n",
       "    </tr>\n",
       "  </tbody>\n",
       "</table>\n",
       "</div>"
      ],
      "text/plain": [
       "       sepal length (cm)  sepal width (cm)  petal length (cm)  \\\n",
       "count         150.000000        150.000000         150.000000   \n",
       "mean            5.843333          3.057333           3.758000   \n",
       "std             0.828066          0.435866           1.765298   \n",
       "min             4.300000          2.000000           1.000000   \n",
       "25%             5.100000          2.800000           1.600000   \n",
       "50%             5.800000          3.000000           4.350000   \n",
       "75%             6.400000          3.300000           5.100000   \n",
       "max             7.900000          4.400000           6.900000   \n",
       "\n",
       "       petal width (cm)  \n",
       "count        150.000000  \n",
       "mean           1.199333  \n",
       "std            0.762238  \n",
       "min            0.100000  \n",
       "25%            0.300000  \n",
       "50%            1.300000  \n",
       "75%            1.800000  \n",
       "max            2.500000  "
      ]
     },
     "execution_count": 160,
     "metadata": {},
     "output_type": "execute_result"
    }
   ],
   "source": [
    "iris_df.describe()"
   ]
  },
  {
   "cell_type": "code",
   "execution_count": 161,
   "id": "a1e304a3",
   "metadata": {
    "ExecuteTime": {
     "end_time": "2021-08-29T17:26:38.985698Z",
     "start_time": "2021-08-29T17:26:38.982731Z"
    }
   },
   "outputs": [],
   "source": [
    "X = iris.data\n",
    "y = iris.target\n",
    "target_names = iris.target_names"
   ]
  },
  {
   "cell_type": "code",
   "execution_count": 162,
   "id": "0fa706dd",
   "metadata": {
    "ExecuteTime": {
     "end_time": "2021-08-29T17:26:39.282395Z",
     "start_time": "2021-08-29T17:26:39.278459Z"
    }
   },
   "outputs": [
    {
     "name": "stdout",
     "output_type": "stream",
     "text": [
      ".. _iris_dataset:\n",
      "\n",
      "Iris plants dataset\n",
      "--------------------\n",
      "\n",
      "**Data Set Characteristics:**\n",
      "\n",
      "    :Number of Instances: 150 (50 in each of three classes)\n",
      "    :Number of Attributes: 4 numeric, predictive attributes and the class\n",
      "    :Attribute Information:\n",
      "        - sepal length in cm\n",
      "        - sepal width in cm\n",
      "        - petal length in cm\n",
      "        - petal width in cm\n",
      "        - class:\n",
      "                - Iris-Setosa\n",
      "                - Iris-Versicolour\n",
      "                - Iris-Virginica\n",
      "                \n",
      "    :Summary Statistics:\n",
      "\n",
      "    ============== ==== ==== ======= ===== ====================\n",
      "                    Min  Max   Mean    SD   Class Correlation\n",
      "    ============== ==== ==== ======= ===== ====================\n",
      "    sepal length:   4.3  7.9   5.84   0.83    0.7826\n",
      "    sepal width:    2.0  4.4   3.05   0.43   -0.4194\n",
      "    petal length:   1.0  6.9   3.76   1.76    0.9490  (high!)\n",
      "    petal width:    0.1  2.5   1.20   0.76    0.9565  (high!)\n",
      "    ============== ==== ==== ======= ===== ====================\n",
      "\n",
      "    :Missing Attribute Values: None\n",
      "    :Class Distribution: 33.3% for each of 3 classes.\n",
      "    :Creator: R.A. Fisher\n",
      "    :Donor: Michael Marshall (MARSHALL%PLU@io.arc.nasa.gov)\n",
      "    :Date: July, 1988\n",
      "\n",
      "The famous Iris database, first used by Sir R.A. Fisher. The dataset is taken\n",
      "from Fisher's paper. Note that it's the same as in R, but not as in the UCI\n",
      "Machine Learning Repository, which has two wrong data points.\n",
      "\n",
      "This is perhaps the best known database to be found in the\n",
      "pattern recognition literature.  Fisher's paper is a classic in the field and\n",
      "is referenced frequently to this day.  (See Duda & Hart, for example.)  The\n",
      "data set contains 3 classes of 50 instances each, where each class refers to a\n",
      "type of iris plant.  One class is linearly separable from the other 2; the\n",
      "latter are NOT linearly separable from each other.\n",
      "\n",
      ".. topic:: References\n",
      "\n",
      "   - Fisher, R.A. \"The use of multiple measurements in taxonomic problems\"\n",
      "     Annual Eugenics, 7, Part II, 179-188 (1936); also in \"Contributions to\n",
      "     Mathematical Statistics\" (John Wiley, NY, 1950).\n",
      "   - Duda, R.O., & Hart, P.E. (1973) Pattern Classification and Scene Analysis.\n",
      "     (Q327.D83) John Wiley & Sons.  ISBN 0-471-22361-1.  See page 218.\n",
      "   - Dasarathy, B.V. (1980) \"Nosing Around the Neighborhood: A New System\n",
      "     Structure and Classification Rule for Recognition in Partially Exposed\n",
      "     Environments\".  IEEE Transactions on Pattern Analysis and Machine\n",
      "     Intelligence, Vol. PAMI-2, No. 1, 67-71.\n",
      "   - Gates, G.W. (1972) \"The Reduced Nearest Neighbor Rule\".  IEEE Transactions\n",
      "     on Information Theory, May 1972, 431-433.\n",
      "   - See also: 1988 MLC Proceedings, 54-64.  Cheeseman et al\"s AUTOCLASS II\n",
      "     conceptual clustering system finds 3 classes in the data.\n",
      "   - Many, many more ...\n"
     ]
    }
   ],
   "source": [
    "print(iris.DESCR)"
   ]
  },
  {
   "cell_type": "code",
   "execution_count": 163,
   "id": "2d937641",
   "metadata": {
    "ExecuteTime": {
     "end_time": "2021-08-29T17:26:39.687814Z",
     "start_time": "2021-08-29T17:26:39.683654Z"
    }
   },
   "outputs": [],
   "source": [
    "pca = PCA(n_components=2)\n",
    "X_r = pca.fit(X).transform(X)"
   ]
  },
  {
   "cell_type": "code",
   "execution_count": 184,
   "id": "52508d1c",
   "metadata": {
    "ExecuteTime": {
     "end_time": "2021-08-29T17:32:32.736128Z",
     "start_time": "2021-08-29T17:32:32.730109Z"
    }
   },
   "outputs": [],
   "source": [
    "def plot_iris(X_r, y,title = 'PCA of IRIS dataset'):\n",
    "    # Percentage of variance explained for each components\n",
    "    print('explained variance ratio (first two components): %s'\n",
    "          % str(pca.explained_variance_ratio_))\n",
    "\n",
    "    plt.figure()\n",
    "    colors = ['navy', 'turquoise', 'darkorange']\n",
    "    lw = .5\n",
    "\n",
    "    for color, i, target_name in zip(colors, [0, 1, 2], target_names):\n",
    "        plt.scatter(X_r[y == i, 0], X_r[y == i, 1], color=color, alpha=.8, lw=lw,\n",
    "                    label=target_name)\n",
    "    plt.legend(loc='best', shadow=False, scatterpoints=1)\n",
    "    plt.title(title)\n",
    "\n",
    "    plt.show()"
   ]
  },
  {
   "cell_type": "code",
   "execution_count": 165,
   "id": "853a4f93",
   "metadata": {
    "ExecuteTime": {
     "end_time": "2021-08-29T17:26:40.710223Z",
     "start_time": "2021-08-29T17:26:40.546381Z"
    }
   },
   "outputs": [
    {
     "name": "stdout",
     "output_type": "stream",
     "text": [
      "explained variance ratio (first two components): [0.92461872 0.05306648]\n"
     ]
    },
    {
     "data": {
      "image/png": "[encoded data removed]",
      "text/plain": [
       "<Figure size 432x288 with 1 Axes>"
      ]
     },
     "metadata": {
      "needs_background": "light"
     },
     "output_type": "display_data"
    }
   ],
   "source": [
    "plot_iris(X_r,y)"
   ]
  },
  {
   "cell_type": "markdown",
   "id": "7c3636e7",
   "metadata": {},
   "source": [
    "## Init"
   ]
  },
  {
   "cell_type": "code",
   "execution_count": 166,
   "id": "013ee414",
   "metadata": {
    "ExecuteTime": {
     "end_time": "2021-08-29T17:26:43.811285Z",
     "start_time": "2021-08-29T17:26:43.807701Z"
    }
   },
   "outputs": [],
   "source": [
    "k = 3\n",
    "n_iter = 100"
   ]
  },
  {
   "cell_type": "code",
   "execution_count": 167,
   "id": "89757eb1",
   "metadata": {
    "ExecuteTime": {
     "end_time": "2021-08-29T17:26:44.131150Z",
     "start_time": "2021-08-29T17:26:44.127988Z"
    }
   },
   "outputs": [],
   "source": [
    "N = X.shape[0]"
   ]
  },
  {
   "cell_type": "code",
   "execution_count": 168,
   "id": "1bb10881",
   "metadata": {
    "ExecuteTime": {
     "end_time": "2021-08-29T17:26:44.553593Z",
     "start_time": "2021-08-29T17:26:44.550306Z"
    }
   },
   "outputs": [],
   "source": [
    "centroid = X[np.random.choice(range(N),k)]"
   ]
  },
  {
   "cell_type": "code",
   "execution_count": 169,
   "id": "8054bf58",
   "metadata": {
    "ExecuteTime": {
     "end_time": "2021-08-29T17:26:44.872635Z",
     "start_time": "2021-08-29T17:26:44.869400Z"
    }
   },
   "outputs": [],
   "source": [
    "Xc = np.random.choice(range(k), size = N)"
   ]
  },
  {
   "cell_type": "code",
   "execution_count": 170,
   "id": "f3d612cd",
   "metadata": {
    "ExecuteTime": {
     "end_time": "2021-08-29T17:26:45.200528Z",
     "start_time": "2021-08-29T17:26:45.195734Z"
    }
   },
   "outputs": [
    {
     "data": {
      "text/plain": [
       "(150,)"
      ]
     },
     "execution_count": 170,
     "metadata": {},
     "output_type": "execute_result"
    }
   ],
   "source": [
    "Xc.shape"
   ]
  },
  {
   "cell_type": "markdown",
   "id": "b2e6f337",
   "metadata": {},
   "source": [
    "## Preprocess understanding"
   ]
  },
  {
   "cell_type": "code",
   "execution_count": 171,
   "id": "9119ac02",
   "metadata": {
    "ExecuteTime": {
     "end_time": "2021-08-29T17:26:46.036939Z",
     "start_time": "2021-08-29T17:26:46.032053Z"
    }
   },
   "outputs": [
    {
     "data": {
      "text/plain": [
       "((150, 4), (150,))"
      ]
     },
     "execution_count": 171,
     "metadata": {},
     "output_type": "execute_result"
    }
   ],
   "source": [
    "X.shape, y.shape"
   ]
  },
  {
   "cell_type": "markdown",
   "id": "20d318e3",
   "metadata": {},
   "source": [
    "### Normalize the data"
   ]
  },
  {
   "cell_type": "code",
   "execution_count": 172,
   "id": "9e702d57",
   "metadata": {
    "ExecuteTime": {
     "end_time": "2021-08-29T17:26:46.876842Z",
     "start_time": "2021-08-29T17:26:46.868319Z"
    }
   },
   "outputs": [],
   "source": [
    "X = (X - X.mean(0))/X.std(0)"
   ]
  },
  {
   "cell_type": "code",
   "execution_count": 173,
   "id": "a9d08dfd",
   "metadata": {
    "ExecuteTime": {
     "end_time": "2021-08-29T17:26:47.313753Z",
     "start_time": "2021-08-29T17:26:47.310776Z"
    }
   },
   "outputs": [],
   "source": [
    "y = y[:, np.newaxis]"
   ]
  },
  {
   "cell_type": "markdown",
   "id": "4cc0a254",
   "metadata": {},
   "source": [
    "## Algorithm Scratchpad"
   ]
  },
  {
   "cell_type": "markdown",
   "id": "de316e18",
   "metadata": {},
   "source": [
    "### Define loss and distance function"
   ]
  },
  {
   "cell_type": "code",
   "execution_count": 174,
   "id": "994e110e",
   "metadata": {
    "ExecuteTime": {
     "end_time": "2021-08-29T17:26:47.821464Z",
     "start_time": "2021-08-29T17:26:47.818321Z"
    }
   },
   "outputs": [],
   "source": [
    "def distance(X1,  X2):\n",
    "    \"\"\"\n",
    "    Calculate euclidean distance between X1 and X2\n",
    "    \"\"\"\n",
    "    return np.sqrt(np.mean((X1 - X2)**2, axis=1))\n",
    "\n",
    "def loss(X,  Xc):\n",
    "    \"\"\"\n",
    "    Average distance error\n",
    "    \"\"\"\n",
    "    return distance(X, Xc).mean()"
   ]
  },
  {
   "cell_type": "markdown",
   "id": "a8c621f4",
   "metadata": {},
   "source": [
    "#### Compute initial loss"
   ]
  },
  {
   "cell_type": "code",
   "execution_count": 176,
   "id": "555af9a9",
   "metadata": {
    "ExecuteTime": {
     "end_time": "2021-08-29T17:26:48.561366Z",
     "start_time": "2021-08-29T17:26:48.556217Z"
    }
   },
   "outputs": [
    {
     "data": {
      "text/plain": [
       "3.105508476051429"
      ]
     },
     "execution_count": 176,
     "metadata": {},
     "output_type": "execute_result"
    }
   ],
   "source": [
    "loss(X, centroid[Xc])"
   ]
  },
  {
   "cell_type": "markdown",
   "id": "97b1c2b0",
   "metadata": {},
   "source": [
    "### Kmeans algorithm"
   ]
  },
  {
   "cell_type": "markdown",
   "id": "e3fd1bc1",
   "metadata": {},
   "source": [
    "#### Cluster assignment test"
   ]
  },
  {
   "cell_type": "code",
   "execution_count": 177,
   "id": "ad6352c8",
   "metadata": {
    "ExecuteTime": {
     "end_time": "2021-08-29T17:26:50.005105Z",
     "start_time": "2021-08-29T17:26:50.000761Z"
    }
   },
   "outputs": [],
   "source": [
    "Xc = np.vstack([distance(X, centroid[i]) for i in range(k)]).argmin(0)"
   ]
  },
  {
   "cell_type": "markdown",
   "id": "17775424",
   "metadata": {},
   "source": [
    "#### Centroid assignment test"
   ]
  },
  {
   "cell_type": "code",
   "execution_count": 178,
   "id": "45c646c9",
   "metadata": {
    "ExecuteTime": {
     "end_time": "2021-08-29T17:26:50.844949Z",
     "start_time": "2021-08-29T17:26:50.840693Z"
    }
   },
   "outputs": [],
   "source": [
    "# Get new centroid based on the mean values of Xc\n",
    "centroid = np.array([centroid[Xc[Xc  ==  i]].mean(0) for i in np.unique(Xc)])"
   ]
  },
  {
   "cell_type": "markdown",
   "id": "7bf90ab1",
   "metadata": {
    "ExecuteTime": {
     "end_time": "2021-08-29T18:25:57.098058Z",
     "start_time": "2021-08-29T18:25:57.093651Z"
    }
   },
   "source": [
    "#### Run Kmeans for n_iter"
   ]
  },
  {
   "cell_type": "markdown",
   "id": "aeb87703",
   "metadata": {},
   "source": [
    "Running for K-means for n_iter and saving the loss, centroid numbers and Clusters(Xc) "
   ]
  },
  {
   "cell_type": "code",
   "execution_count": 179,
   "id": "c9407110",
   "metadata": {
    "ExecuteTime": {
     "end_time": "2021-08-29T17:26:53.152353Z",
     "start_time": "2021-08-29T17:26:52.743366Z"
    }
   },
   "outputs": [
    {
     "name": "stdout",
     "output_type": "stream",
     "text": [
      "\n",
      "Final loss at 0:  0.49575130920243\n",
      "Final centroids are :  [[-1.32765367 -0.373138   -1.13723572 -1.11486192]\n",
      " [ 0.57100359 -0.37176778  0.69111943  0.66315198]\n",
      " [-0.81623084  1.31895771 -1.28683379 -1.2197118 ]]\n",
      "\n",
      "Final loss at 1:  0.4310459770930125\n",
      "Final centroids are :  [[-1.00206653  0.90625492 -1.30310821 -1.25634413]\n",
      " [-0.16840578 -0.9726981   0.2598706   0.17543327]\n",
      " [ 1.03359865  0.00613858  0.94360463  0.9725624 ]]\n",
      "\n",
      "Final loss at 2:  0.49575130920243\n",
      "Final centroids are :  [[ 0.57100359 -0.37176778  0.69111943  0.66315198]\n",
      " [-0.81623084  1.31895771 -1.28683379 -1.2197118 ]\n",
      " [-1.32765367 -0.373138   -1.13723572 -1.11486192]]\n",
      "\n",
      "Final loss at 3:  0.43104964330578666\n",
      "Final centroids are :  [[ 1.16743407  0.14530299  1.00302557  1.0300019 ]\n",
      " [-0.01139555 -0.87600831  0.37707573  0.31115341]\n",
      " [-1.01457897  0.85326268 -1.30498732 -1.25489349]]\n",
      "\n",
      "Issue in o_centroid [[ 0.50728948 -0.42663134  0.65249366  0.62744675]\n",
      " [-1.01457897  0.85326268 -1.30498732 -1.25489349]] [[ 0.79566902 -0.13197948  0.99010798  0.79067065]\n",
      " [ 0.79566902 -0.13197948  0.99010798  0.79067065]\n",
      " [-0.90068117  1.01900435 -1.34022653 -1.18381211]]\n",
      "\n",
      "Final loss at 5:  0.4300935141259464\n",
      "Final centroids are :  [[ 1.13597027  0.08842168  0.99615451  1.01752612]\n",
      " [-0.05021989 -0.88337647  0.34773781  0.2815273 ]\n",
      " [-1.01457897  0.85326268 -1.30498732 -1.25489349]]\n",
      "\n",
      "Final loss at 6:  0.4310459770930125\n",
      "Final centroids are :  [[ 1.03359865  0.00613858  0.94360463  0.9725624 ]\n",
      " [-1.00206653  0.90625492 -1.30310821 -1.25634413]\n",
      " [-0.16840578 -0.9726981   0.2598706   0.17543327]]\n",
      "\n",
      "Final loss at 7:  0.43104964330578666\n",
      "Final centroids are :  [[-0.01139555 -0.87600831  0.37707573  0.31115341]\n",
      " [-1.01457897  0.85326268 -1.30498732 -1.25489349]\n",
      " [ 1.16743407  0.14530299  1.00302557  1.0300019 ]]\n",
      "\n",
      "Final loss at 8:  0.4310459770930125\n",
      "Final centroids are :  [[-1.00206653  0.90625492 -1.30310821 -1.25634413]\n",
      " [-0.16840578 -0.9726981   0.2598706   0.17543327]\n",
      " [ 1.03359865  0.00613858  0.94360463  0.9725624 ]]\n",
      "\n",
      "Final loss at 9:  0.4310459770930125\n",
      "Final centroids are :  [[-1.00206653  0.90625492 -1.30310821 -1.25634413]\n",
      " [-0.16840578 -0.9726981   0.2598706   0.17543327]\n",
      " [ 1.03359865  0.00613858  0.94360463  0.9725624 ]]\n",
      "\n",
      "Final loss at 10:  0.4310459770930125\n",
      "Final centroids are :  [[-1.00206653  0.90625492 -1.30310821 -1.25634413]\n",
      " [ 1.03359865  0.00613858  0.94360463  0.9725624 ]\n",
      " [-0.16840578 -0.9726981   0.2598706   0.17543327]]\n",
      "\n",
      "Final loss at 11:  0.503696311493858\n",
      "Final centroids are :  [[-1.2115031  -0.53232168 -0.98190362 -0.9892254 ]\n",
      " [ 0.60023697 -0.33989914  0.71508817  0.69159267]\n",
      " [-0.82227843  1.28982408 -1.29174754 -1.22252746]]\n",
      "\n",
      "Final loss at 12:  0.4931551206531252\n",
      "Final centroids are :  [[-1.16921537  0.46528781 -1.31718433 -1.27275278]\n",
      " [ 0.50728948 -0.42663134  0.65249366  0.62744675]\n",
      " [-0.57445998  1.95749886 -1.27027277 -1.20406322]]\n",
      "\n",
      "Final loss at 13:  0.49575130920243\n",
      "Final centroids are :  [[-1.32765367 -0.373138   -1.13723572 -1.11486192]\n",
      " [ 0.57100359 -0.37176778  0.69111943  0.66315198]\n",
      " [-0.81623084  1.31895771 -1.28683379 -1.2197118 ]]\n",
      "\n",
      "Final loss at 14:  0.4299923903293609\n",
      "Final centroids are :  [[-1.01457897  0.85326268 -1.30498732 -1.25489349]\n",
      " [-0.07723421 -0.93062132  0.32313817  0.23727821]\n",
      " [ 1.06889068  0.05759433  0.96893325  1.00231456]]\n",
      "\n",
      "Final loss at 15:  0.4302922501455391\n",
      "Final centroids are :  [[-1.01457897  0.85326268 -1.30498732 -1.25489349]\n",
      " [ 1.13140499  0.07903422  0.98537152  0.99908828]\n",
      " [-0.06881714 -0.89339955  0.34522179  0.28439302]]\n",
      "\n",
      "Final loss at 16:  0.4310459770930125\n",
      "Final centroids are :  [[-0.16840578 -0.9726981   0.2598706   0.17543327]\n",
      " [ 1.03359865  0.00613858  0.94360463  0.9725624 ]\n",
      " [-1.00206653  0.90625492 -1.30310821 -1.25634413]]\n",
      "\n",
      "Final loss at 17:  0.4302922501455391\n",
      "Final centroids are :  [[-1.01457897  0.85326268 -1.30498732 -1.25489349]\n",
      " [ 1.13140499  0.07903422  0.98537152  0.99908828]\n",
      " [-0.06881714 -0.89339955  0.34522179  0.28439302]]\n",
      "\n",
      "Final loss at 18:  0.43104964330578666\n",
      "Final centroids are :  [[-0.01139555 -0.87600831  0.37707573  0.31115341]\n",
      " [-1.01457897  0.85326268 -1.30498732 -1.25489349]\n",
      " [ 1.16743407  0.14530299  1.00302557  1.0300019 ]]\n",
      "\n",
      "Final loss at 19:  0.4300935141259464\n",
      "Final centroids are :  [[-1.01457897  0.85326268 -1.30498732 -1.25489349]\n",
      " [-0.05021989 -0.88337647  0.34773781  0.2815273 ]\n",
      " [ 1.13597027  0.08842168  0.99615451  1.01752612]]\n",
      "\n",
      "Final loss at 20:  0.4310459770930125\n",
      "Final centroids are :  [[-0.16840578 -0.9726981   0.2598706   0.17543327]\n",
      " [ 1.03359865  0.00613858  0.94360463  0.9725624 ]\n",
      " [-1.00206653  0.90625492 -1.30310821 -1.25634413]]\n",
      "\n",
      "Final loss at 21:  0.4310459770930125\n",
      "Final centroids are :  [[-1.00206653  0.90625492 -1.30310821 -1.25634413]\n",
      " [-0.16840578 -0.9726981   0.2598706   0.17543327]\n",
      " [ 1.03359865  0.00613858  0.94360463  0.9725624 ]]\n",
      "\n",
      "Final loss at 22:  0.4300935141259464\n",
      "Final centroids are :  [[ 1.13597027  0.08842168  0.99615451  1.01752612]\n",
      " [-0.05021989 -0.88337647  0.34773781  0.2815273 ]\n",
      " [-1.01457897  0.85326268 -1.30498732 -1.25489349]]\n",
      "\n",
      "Final loss at 23:  0.43104964330578666\n",
      "Final centroids are :  [[ 1.16743407  0.14530299  1.00302557  1.0300019 ]\n",
      " [-0.01139555 -0.87600831  0.37707573  0.31115341]\n",
      " [-1.01457897  0.85326268 -1.30498732 -1.25489349]]\n",
      "\n",
      "Final loss at 24:  0.4310459770930125\n",
      "Final centroids are :  [[ 1.03359865  0.00613858  0.94360463  0.9725624 ]\n",
      " [-0.16840578 -0.9726981   0.2598706   0.17543327]\n",
      " [-1.00206653  0.90625492 -1.30310821 -1.25634413]]\n",
      "\n",
      "Issue in o_centroid [[-0.53123796 -0.00334011 -0.46983377 -0.48822635]\n",
      " [ 1.12888066  0.00709773  0.99839677  1.037481  ]] [[ 0.4321654  -0.36217625  0.30805885  0.13250973]\n",
      " [ 0.4321654  -0.36217625  0.30805885  0.13250973]\n",
      " [ 1.03800476 -0.13197948  0.70592084  0.65903847]]\n",
      "\n",
      "Final loss at 26:  0.4310459770930125\n",
      "Final centroids are :  [[-1.00206653  0.90625492 -1.30310821 -1.25634413]\n",
      " [ 1.03359865  0.00613858  0.94360463  0.9725624 ]\n",
      " [-0.16840578 -0.9726981   0.2598706   0.17543327]]\n",
      "\n",
      "Final loss at 27:  0.4299923903293609\n",
      "Final centroids are :  [[-1.01457897  0.85326268 -1.30498732 -1.25489349]\n",
      " [-0.07723421 -0.93062132  0.32313817  0.23727821]\n",
      " [ 1.06889068  0.05759433  0.96893325  1.00231456]]\n",
      "\n",
      "Final loss at 28:  0.4299923903293609\n",
      "Final centroids are :  [[-0.07723421 -0.93062132  0.32313817  0.23727821]\n",
      " [-1.01457897  0.85326268 -1.30498732 -1.25489349]\n",
      " [ 1.06889068  0.05759433  0.96893325  1.00231456]]\n",
      "\n",
      "Final loss at 29:  0.4310459770930125\n",
      "Final centroids are :  [[-1.00206653  0.90625492 -1.30310821 -1.25634413]\n",
      " [-0.16840578 -0.9726981   0.2598706   0.17543327]\n",
      " [ 1.03359865  0.00613858  0.94360463  0.9725624 ]]\n",
      "\n",
      "Final loss at 30:  0.4310459770930125\n",
      "Final centroids are :  [[-0.16840578 -0.9726981   0.2598706   0.17543327]\n",
      " [ 1.03359865  0.00613858  0.94360463  0.9725624 ]\n",
      " [-1.00206653  0.90625492 -1.30310821 -1.25634413]]\n",
      "\n",
      "Final loss at 31:  0.43104964330578666\n",
      "Final centroids are :  [[-1.01457897  0.85326268 -1.30498732 -1.25489349]\n",
      " [ 1.16743407  0.14530299  1.00302557  1.0300019 ]\n",
      " [-0.01139555 -0.87600831  0.37707573  0.31115341]]\n",
      "\n",
      "Final loss at 32:  0.4310459770930125\n",
      "Final centroids are :  [[-0.16840578 -0.9726981   0.2598706   0.17543327]\n",
      " [ 1.03359865  0.00613858  0.94360463  0.9725624 ]\n",
      " [-1.00206653  0.90625492 -1.30310821 -1.25634413]]\n",
      "\n",
      "Final loss at 33:  0.4302922501455391\n",
      "Final centroids are :  [[-1.01457897  0.85326268 -1.30498732 -1.25489349]\n",
      " [ 1.13140499  0.07903422  0.98537152  0.99908828]\n",
      " [-0.06881714 -0.89339955  0.34522179  0.28439302]]\n",
      "\n",
      "Final loss at 34:  0.4300935141259464\n",
      "Final centroids are :  [[ 1.13597027  0.08842168  0.99615451  1.01752612]\n",
      " [-0.05021989 -0.88337647  0.34773781  0.2815273 ]\n",
      " [-1.01457897  0.85326268 -1.30498732 -1.25489349]]\n",
      "\n",
      "Final loss at 35:  0.49575130920243\n",
      "Final centroids are :  [[-1.32765367 -0.373138   -1.13723572 -1.11486192]\n",
      " [ 0.57100359 -0.37176778  0.69111943  0.66315198]\n",
      " [-0.81623084  1.31895771 -1.28683379 -1.2197118 ]]\n",
      "\n",
      "Final loss at 36:  0.4310459770930125\n",
      "Final centroids are :  [[-0.16840578 -0.9726981   0.2598706   0.17543327]\n",
      " [-1.00206653  0.90625492 -1.30310821 -1.25634413]\n",
      " [ 1.03359865  0.00613858  0.94360463  0.9725624 ]]\n",
      "\n",
      "Final loss at 37:  0.43104964330578666\n",
      "Final centroids are :  [[ 1.16743407  0.14530299  1.00302557  1.0300019 ]\n",
      " [-1.01457897  0.85326268 -1.30498732 -1.25489349]\n",
      " [-0.01139555 -0.87600831  0.37707573  0.31115341]]\n",
      "\n",
      "Final loss at 38:  0.4921874536938574\n",
      "Final centroids are :  [[ 0.50728948 -0.42663134  0.65249366  0.62744675]\n",
      " [-1.19647332  0.40288948 -1.3134795  -1.26511434]\n",
      " [-0.62805346  1.81030574 -1.28694144 -1.23317418]]\n",
      "\n",
      "Final loss at 39:  0.43104964330578666\n",
      "Final centroids are :  [[-0.01139555 -0.87600831  0.37707573  0.31115341]\n",
      " [-1.01457897  0.85326268 -1.30498732 -1.25489349]\n",
      " [ 1.16743407  0.14530299  1.00302557  1.0300019 ]]\n",
      "\n",
      "Final loss at 40:  0.4310459770930125\n",
      "Final centroids are :  [[ 1.03359865  0.00613858  0.94360463  0.9725624 ]\n",
      " [-0.16840578 -0.9726981   0.2598706   0.17543327]\n",
      " [-1.00206653  0.90625492 -1.30310821 -1.25634413]]\n",
      "\n",
      "Final loss at 41:  0.49575130920243\n",
      "Final centroids are :  [[-0.81623084  1.31895771 -1.28683379 -1.2197118 ]\n",
      " [ 0.57100359 -0.37176778  0.69111943  0.66315198]\n",
      " [-1.32765367 -0.373138   -1.13723572 -1.11486192]]\n",
      "\n",
      "Final loss at 42:  0.43104964330578666\n",
      "Final centroids are :  [[-0.01139555 -0.87600831  0.37707573  0.31115341]\n",
      " [ 1.16743407  0.14530299  1.00302557  1.0300019 ]\n",
      " [-1.01457897  0.85326268 -1.30498732 -1.25489349]]\n",
      "\n",
      "Final loss at 43:  0.43104964330578666\n",
      "Final centroids are :  [[-1.01457897  0.85326268 -1.30498732 -1.25489349]\n",
      " [-0.01139555 -0.87600831  0.37707573  0.31115341]\n",
      " [ 1.16743407  0.14530299  1.00302557  1.0300019 ]]\n",
      "\n",
      "Final loss at 44:  0.4985731201661065\n",
      "Final centroids are :  [[-0.81623084  1.31895771 -1.28683379 -1.2197118 ]\n",
      " [-1.2862153  -0.42495718 -1.08704162 -1.07611305]\n",
      " [ 0.5813932  -0.35975312  0.69874138  0.67289449]]\n",
      "\n",
      "Issue in o_centroid [[-0.53717756 -0.80978107 -0.20768817 -0.26238682]\n",
      " [ 0.30216238  0.45550185  0.11682459  0.14759259]] [[-1.02184904 -0.13197948 -1.22655167 -1.3154443 ]\n",
      " [-0.53717756  0.78880759 -1.2833891  -1.05217993]\n",
      " [-0.53717756  0.78880759 -1.2833891  -1.05217993]]\n",
      "\n",
      "Final loss at 46:  0.43104964330578666\n",
      "Final centroids are :  [[ 1.16743407  0.14530299  1.00302557  1.0300019 ]\n",
      " [-0.01139555 -0.87600831  0.37707573  0.31115341]\n",
      " [-1.01457897  0.85326268 -1.30498732 -1.25489349]]\n",
      "\n",
      "Final loss at 47:  0.4310459770930125\n",
      "Final centroids are :  [[-0.16840578 -0.9726981   0.2598706   0.17543327]\n",
      " [ 1.03359865  0.00613858  0.94360463  0.9725624 ]\n",
      " [-1.00206653  0.90625492 -1.30310821 -1.25634413]]\n",
      "\n",
      "Final loss at 48:  0.43104964330578666\n",
      "Final centroids are :  [[-0.01139555 -0.87600831  0.37707573  0.31115341]\n",
      " [ 1.16743407  0.14530299  1.00302557  1.0300019 ]\n",
      " [-1.01457897  0.85326268 -1.30498732 -1.25489349]]\n",
      "\n",
      "Final loss at 49:  0.4310459770930125\n",
      "Final centroids are :  [[ 1.03359865  0.00613858  0.94360463  0.9725624 ]\n",
      " [-1.00206653  0.90625492 -1.30310821 -1.25634413]\n",
      " [-0.16840578 -0.9726981   0.2598706   0.17543327]]\n",
      "\n",
      "Final loss at 50:  0.4302922501455391\n",
      "Final centroids are :  [[ 1.13140499  0.07903422  0.98537152  0.99908828]\n",
      " [-1.01457897  0.85326268 -1.30498732 -1.25489349]\n",
      " [-0.06881714 -0.89339955  0.34522179  0.28439302]]\n",
      "\n",
      "Final loss at 51:  0.43104964330578666\n",
      "Final centroids are :  [[-0.01139555 -0.87600831  0.37707573  0.31115341]\n",
      " [-1.01457897  0.85326268 -1.30498732 -1.25489349]\n",
      " [ 1.16743407  0.14530299  1.00302557  1.0300019 ]]\n",
      "\n",
      "Final loss at 52:  0.4310459770930125\n",
      "Final centroids are :  [[ 1.03359865  0.00613858  0.94360463  0.9725624 ]\n",
      " [-1.00206653  0.90625492 -1.30310821 -1.25634413]\n",
      " [-0.16840578 -0.9726981   0.2598706   0.17543327]]\n",
      "\n",
      "Final loss at 53:  0.43104964330578666\n",
      "Final centroids are :  [[ 1.16743407  0.14530299  1.00302557  1.0300019 ]\n",
      " [-0.01139555 -0.87600831  0.37707573  0.31115341]\n",
      " [-1.01457897  0.85326268 -1.30498732 -1.25489349]]\n",
      "\n",
      "Final loss at 54:  0.492030880306631\n",
      "Final centroids are :  [[-1.20910848  0.38421933 -1.31439133 -1.26358919]\n",
      " [-0.63696286  1.7637586  -1.28673248 -1.2380136 ]\n",
      " [ 0.50728948 -0.42663134  0.65249366  0.62744675]]\n",
      "\n",
      "Final loss at 55:  0.4985731201661065\n",
      "Final centroids are :  [[-0.81623084  1.31895771 -1.28683379 -1.2197118 ]\n",
      " [-1.2862153  -0.42495718 -1.08704162 -1.07611305]\n",
      " [ 0.5813932  -0.35975312  0.69874138  0.67289449]]\n",
      "\n",
      "Final loss at 56:  0.4310459770930125\n",
      "Final centroids are :  [[ 1.03359865  0.00613858  0.94360463  0.9725624 ]\n",
      " [-0.16840578 -0.9726981   0.2598706   0.17543327]\n",
      " [-1.00206653  0.90625492 -1.30310821 -1.25634413]]\n",
      "\n",
      "Final loss at 57:  0.4310459770930125\n",
      "Final centroids are :  [[ 1.03359865  0.00613858  0.94360463  0.9725624 ]\n",
      " [-1.00206653  0.90625492 -1.30310821 -1.25634413]\n",
      " [-0.16840578 -0.9726981   0.2598706   0.17543327]]\n",
      "\n",
      "Final loss at 58:  0.49575130920243\n",
      "Final centroids are :  [[ 0.57100359 -0.37176778  0.69111943  0.66315198]\n",
      " [-0.81623084  1.31895771 -1.28683379 -1.2197118 ]\n",
      " [-1.32765367 -0.373138   -1.13723572 -1.11486192]]\n",
      "\n",
      "Final loss at 59:  0.43104964330578666\n",
      "Final centroids are :  [[-0.01139555 -0.87600831  0.37707573  0.31115341]\n",
      " [ 1.16743407  0.14530299  1.00302557  1.0300019 ]\n",
      " [-1.01457897  0.85326268 -1.30498732 -1.25489349]]\n",
      "\n",
      "Issue in o_centroid [[-0.80307372 -0.09681053 -0.71027838 -0.71030189]\n",
      " [ 0.74129882  0.08936357  0.65564158  0.65566329]] [[-0.41600969 -1.28296331  0.13754657  0.13250973]\n",
      " [ 0.79566902 -0.59237301  0.47857113  0.3957741 ]\n",
      " [-0.41600969 -1.28296331  0.13754657  0.13250973]]\n",
      "\n",
      "Final loss at 61:  0.49575130920243\n",
      "Final centroids are :  [[-0.81623084  1.31895771 -1.28683379 -1.2197118 ]\n",
      " [-1.32765367 -0.373138   -1.13723572 -1.11486192]\n",
      " [ 0.57100359 -0.37176778  0.69111943  0.66315198]]\n",
      "\n"
     ]
    },
    {
     "name": "stdout",
     "output_type": "stream",
     "text": [
      "Final loss at 62:  0.4310459770930125\n",
      "Final centroids are :  [[-1.00206653  0.90625492 -1.30310821 -1.25634413]\n",
      " [-0.16840578 -0.9726981   0.2598706   0.17543327]\n",
      " [ 1.03359865  0.00613858  0.94360463  0.9725624 ]]\n",
      "\n",
      "Final loss at 63:  0.43104964330578666\n",
      "Final centroids are :  [[-0.01139555 -0.87600831  0.37707573  0.31115341]\n",
      " [ 1.16743407  0.14530299  1.00302557  1.0300019 ]\n",
      " [-1.01457897  0.85326268 -1.30498732 -1.25489349]]\n",
      "\n",
      "Final loss at 64:  0.49575130920243\n",
      "Final centroids are :  [[-0.81623084  1.31895771 -1.28683379 -1.2197118 ]\n",
      " [-1.32765367 -0.373138   -1.13723572 -1.11486192]\n",
      " [ 0.57100359 -0.37176778  0.69111943  0.66315198]]\n",
      "\n",
      "Final loss at 65:  0.43104964330578666\n",
      "Final centroids are :  [[ 1.16743407  0.14530299  1.00302557  1.0300019 ]\n",
      " [-1.01457897  0.85326268 -1.30498732 -1.25489349]\n",
      " [-0.01139555 -0.87600831  0.37707573  0.31115341]]\n",
      "\n",
      "Final loss at 66:  0.4985731201661065\n",
      "Final centroids are :  [[-1.2862153  -0.42495718 -1.08704162 -1.07611305]\n",
      " [-0.81623084  1.31895771 -1.28683379 -1.2197118 ]\n",
      " [ 0.5813932  -0.35975312  0.69874138  0.67289449]]\n",
      "\n",
      "Final loss at 67:  0.49575130920243\n",
      "Final centroids are :  [[-1.32765367 -0.373138   -1.13723572 -1.11486192]\n",
      " [ 0.57100359 -0.37176778  0.69111943  0.66315198]\n",
      " [-0.81623084  1.31895771 -1.28683379 -1.2197118 ]]\n",
      "\n",
      "Final loss at 68:  0.4302922501455391\n",
      "Final centroids are :  [[ 1.13140499  0.07903422  0.98537152  0.99908828]\n",
      " [-1.01457897  0.85326268 -1.30498732 -1.25489349]\n",
      " [-0.06881714 -0.89339955  0.34522179  0.28439302]]\n",
      "\n",
      "Final loss at 69:  0.4310459770930125\n",
      "Final centroids are :  [[ 1.03359865  0.00613858  0.94360463  0.9725624 ]\n",
      " [-0.16840578 -0.9726981   0.2598706   0.17543327]\n",
      " [-1.00206653  0.90625492 -1.30310821 -1.25634413]]\n",
      "\n",
      "Final loss at 70:  0.4310459770930125\n",
      "Final centroids are :  [[-1.00206653  0.90625492 -1.30310821 -1.25634413]\n",
      " [-0.16840578 -0.9726981   0.2598706   0.17543327]\n",
      " [ 1.03359865  0.00613858  0.94360463  0.9725624 ]]\n",
      "\n",
      "Final loss at 71:  0.49575130920243\n",
      "Final centroids are :  [[ 0.57100359 -0.37176778  0.69111943  0.66315198]\n",
      " [-0.81623084  1.31895771 -1.28683379 -1.2197118 ]\n",
      " [-1.32765367 -0.373138   -1.13723572 -1.11486192]]\n",
      "\n",
      "Final loss at 72:  0.4310459770930125\n",
      "Final centroids are :  [[-0.16840578 -0.9726981   0.2598706   0.17543327]\n",
      " [ 1.03359865  0.00613858  0.94360463  0.9725624 ]\n",
      " [-1.00206653  0.90625492 -1.30310821 -1.25634413]]\n",
      "\n",
      "Final loss at 73:  0.43104964330578666\n",
      "Final centroids are :  [[-1.01457897  0.85326268 -1.30498732 -1.25489349]\n",
      " [-0.01139555 -0.87600831  0.37707573  0.31115341]\n",
      " [ 1.16743407  0.14530299  1.00302557  1.0300019 ]]\n",
      "\n",
      "Final loss at 74:  0.43104964330578666\n",
      "Final centroids are :  [[-0.01139555 -0.87600831  0.37707573  0.31115341]\n",
      " [-1.01457897  0.85326268 -1.30498732 -1.25489349]\n",
      " [ 1.16743407  0.14530299  1.00302557  1.0300019 ]]\n",
      "\n",
      "Final loss at 75:  0.43104964330578666\n",
      "Final centroids are :  [[ 1.16743407  0.14530299  1.00302557  1.0300019 ]\n",
      " [-0.01139555 -0.87600831  0.37707573  0.31115341]\n",
      " [-1.01457897  0.85326268 -1.30498732 -1.25489349]]\n",
      "\n",
      "Final loss at 76:  0.43104964330578666\n",
      "Final centroids are :  [[-0.01139555 -0.87600831  0.37707573  0.31115341]\n",
      " [ 1.16743407  0.14530299  1.00302557  1.0300019 ]\n",
      " [-1.01457897  0.85326268 -1.30498732 -1.25489349]]\n",
      "\n",
      "Final loss at 77:  0.49575130920243\n",
      "Final centroids are :  [[ 0.57100359 -0.37176778  0.69111943  0.66315198]\n",
      " [-1.32765367 -0.373138   -1.13723572 -1.11486192]\n",
      " [-0.81623084  1.31895771 -1.28683379 -1.2197118 ]]\n",
      "\n",
      "Final loss at 78:  0.4302922501455391\n",
      "Final centroids are :  [[-0.06881714 -0.89339955  0.34522179  0.28439302]\n",
      " [ 1.13140499  0.07903422  0.98537152  0.99908828]\n",
      " [-1.01457897  0.85326268 -1.30498732 -1.25489349]]\n",
      "\n",
      "Final loss at 79:  0.43104964330578666\n",
      "Final centroids are :  [[-0.01139555 -0.87600831  0.37707573  0.31115341]\n",
      " [-1.01457897  0.85326268 -1.30498732 -1.25489349]\n",
      " [ 1.16743407  0.14530299  1.00302557  1.0300019 ]]\n",
      "\n",
      "Final loss at 80:  0.43104964330578666\n",
      "Final centroids are :  [[ 1.16743407  0.14530299  1.00302557  1.0300019 ]\n",
      " [-1.01457897  0.85326268 -1.30498732 -1.25489349]\n",
      " [-0.01139555 -0.87600831  0.37707573  0.31115341]]\n",
      "\n",
      "Final loss at 81:  0.43104964330578666\n",
      "Final centroids are :  [[-0.01139555 -0.87600831  0.37707573  0.31115341]\n",
      " [ 1.16743407  0.14530299  1.00302557  1.0300019 ]\n",
      " [-1.01457897  0.85326268 -1.30498732 -1.25489349]]\n",
      "\n",
      "Final loss at 82:  0.4300935141259464\n",
      "Final centroids are :  [[ 1.13597027  0.08842168  0.99615451  1.01752612]\n",
      " [-1.01457897  0.85326268 -1.30498732 -1.25489349]\n",
      " [-0.05021989 -0.88337647  0.34773781  0.2815273 ]]\n",
      "\n",
      "Final loss at 83:  0.4931551206531252\n",
      "Final centroids are :  [[-1.16921537  0.46528781 -1.31718433 -1.27275278]\n",
      " [ 0.50728948 -0.42663134  0.65249366  0.62744675]\n",
      " [-0.57445998  1.95749886 -1.27027277 -1.20406322]]\n",
      "\n",
      "Final loss at 84:  0.4299923903293609\n",
      "Final centroids are :  [[-0.07723421 -0.93062132  0.32313817  0.23727821]\n",
      " [-1.01457897  0.85326268 -1.30498732 -1.25489349]\n",
      " [ 1.06889068  0.05759433  0.96893325  1.00231456]]\n",
      "\n",
      "Final loss at 85:  0.4985731201661065\n",
      "Final centroids are :  [[-0.81623084  1.31895771 -1.28683379 -1.2197118 ]\n",
      " [ 0.5813932  -0.35975312  0.69874138  0.67289449]\n",
      " [-1.2862153  -0.42495718 -1.08704162 -1.07611305]]\n",
      "\n",
      "Final loss at 86:  0.43104964330578666\n",
      "Final centroids are :  [[-1.01457897  0.85326268 -1.30498732 -1.25489349]\n",
      " [ 1.16743407  0.14530299  1.00302557  1.0300019 ]\n",
      " [-0.01139555 -0.87600831  0.37707573  0.31115341]]\n",
      "\n",
      "Final loss at 87:  0.4310459770930125\n",
      "Final centroids are :  [[-1.00206653  0.90625492 -1.30310821 -1.25634413]\n",
      " [ 1.03359865  0.00613858  0.94360463  0.9725624 ]\n",
      " [-0.16840578 -0.9726981   0.2598706   0.17543327]]\n",
      "\n",
      "Final loss at 88:  0.4931551206531252\n",
      "Final centroids are :  [[-0.57445998  1.95749886 -1.27027277 -1.20406322]\n",
      " [ 0.50728948 -0.42663134  0.65249366  0.62744675]\n",
      " [-1.16921537  0.46528781 -1.31718433 -1.27275278]]\n",
      "\n",
      "Final loss at 89:  0.4310459770930125\n",
      "Final centroids are :  [[ 1.03359865  0.00613858  0.94360463  0.9725624 ]\n",
      " [-1.00206653  0.90625492 -1.30310821 -1.25634413]\n",
      " [-0.16840578 -0.9726981   0.2598706   0.17543327]]\n",
      "\n",
      "Final loss at 90:  0.4299923903293609\n",
      "Final centroids are :  [[-1.01457897  0.85326268 -1.30498732 -1.25489349]\n",
      " [-0.07723421 -0.93062132  0.32313817  0.23727821]\n",
      " [ 1.06889068  0.05759433  0.96893325  1.00231456]]\n",
      "\n",
      "Final loss at 91:  0.4310459770930125\n",
      "Final centroids are :  [[ 1.03359865  0.00613858  0.94360463  0.9725624 ]\n",
      " [-1.00206653  0.90625492 -1.30310821 -1.25634413]\n",
      " [-0.16840578 -0.9726981   0.2598706   0.17543327]]\n",
      "\n",
      "Final loss at 92:  0.43104964330578666\n",
      "Final centroids are :  [[ 1.16743407  0.14530299  1.00302557  1.0300019 ]\n",
      " [-1.01457897  0.85326268 -1.30498732 -1.25489349]\n",
      " [-0.01139555 -0.87600831  0.37707573  0.31115341]]\n",
      "\n",
      "Final loss at 93:  0.43104964330578666\n",
      "Final centroids are :  [[-1.01457897  0.85326268 -1.30498732 -1.25489349]\n",
      " [ 1.16743407  0.14530299  1.00302557  1.0300019 ]\n",
      " [-0.01139555 -0.87600831  0.37707573  0.31115341]]\n",
      "\n",
      "Final loss at 94:  0.4299923903293609\n",
      "Final centroids are :  [[ 1.06889068  0.05759433  0.96893325  1.00231456]\n",
      " [-0.07723421 -0.93062132  0.32313817  0.23727821]\n",
      " [-1.01457897  0.85326268 -1.30498732 -1.25489349]]\n",
      "\n",
      "Final loss at 95:  0.43104964330578666\n",
      "Final centroids are :  [[ 1.16743407  0.14530299  1.00302557  1.0300019 ]\n",
      " [-0.01139555 -0.87600831  0.37707573  0.31115341]\n",
      " [-1.01457897  0.85326268 -1.30498732 -1.25489349]]\n",
      "\n",
      "Final loss at 96:  0.4310459770930125\n",
      "Final centroids are :  [[ 1.03359865  0.00613858  0.94360463  0.9725624 ]\n",
      " [-0.16840578 -0.9726981   0.2598706   0.17543327]\n",
      " [-1.00206653  0.90625492 -1.30310821 -1.25634413]]\n",
      "\n",
      "Final loss at 97:  0.49575130920243\n",
      "Final centroids are :  [[ 0.57100359 -0.37176778  0.69111943  0.66315198]\n",
      " [-1.32765367 -0.373138   -1.13723572 -1.11486192]\n",
      " [-0.81623084  1.31895771 -1.28683379 -1.2197118 ]]\n",
      "\n",
      "Final loss at 98:  0.4299923903293609\n",
      "Final centroids are :  [[ 1.06889068  0.05759433  0.96893325  1.00231456]\n",
      " [-1.01457897  0.85326268 -1.30498732 -1.25489349]\n",
      " [-0.07723421 -0.93062132  0.32313817  0.23727821]]\n",
      "\n",
      "Final loss at 99:  0.4310459770930125\n",
      "Final centroids are :  [[-1.00206653  0.90625492 -1.30310821 -1.25634413]\n",
      " [ 1.03359865  0.00613858  0.94360463  0.9725624 ]\n",
      " [-0.16840578 -0.9726981   0.2598706   0.17543327]]\n"
     ]
    }
   ],
   "source": [
    "# Store loss value and centroid numbers\n",
    "loss_centroid = []\n",
    "# Store clusters in each iteration\n",
    "clusters = []\n",
    "for _ in range(n_iter):\n",
    "    # init centroid\n",
    "    centroid = X[np.random.choice(range(N),k)]\n",
    "    for _1 in range(1000):\n",
    "        # Find clusters based on centroids\n",
    "        Xc = np.vstack([distance(X, centroid[i]) for i in range(k)]).argmin(0)\n",
    "        # Calculate loss\n",
    "        loss_tmp = loss(X, centroid[Xc])\n",
    "        # Define new centroid based on clusters\n",
    "        o_centroid = np.array([X[Xc  ==  i].mean(0) for i in np.unique(Xc)])\n",
    "        \n",
    "        try:\n",
    "            # If no change in centroid, stop\n",
    "            if np.allclose(o_centroid, centroid):\n",
    "                print(f\"Final loss at iter {_}: \",loss_tmp)\n",
    "                print(\"Final centroids positions : \", o_centroid)\n",
    "                break\n",
    "            else:\n",
    "                centroid= o_centroid\n",
    "        except:\n",
    "            print(\"Centroids reduced to from k to k-1. Ignoring these cases\")\n",
    "            break\n",
    "            \n",
    "\n",
    "\n",
    "    loss_centroid.append([centroid, loss_tmp])\n",
    "    clusters.append(Xc)\n",
    "    "
   ]
  },
  {
   "cell_type": "markdown",
   "id": "7399b38f",
   "metadata": {},
   "source": [
    "### Get clusters after fitting"
   ]
  },
  {
   "cell_type": "code",
   "execution_count": 180,
   "id": "7b44f47d",
   "metadata": {
    "ExecuteTime": {
     "end_time": "2021-08-29T17:26:54.306312Z",
     "start_time": "2021-08-29T17:26:54.302615Z"
    }
   },
   "outputs": [],
   "source": [
    "res = pd.DataFrame(loss_centroid, columns = ['centroid', 'loss'])\n",
    "\n",
    "low_loss_idx = res['loss'].idxmin()\n",
    "res.loc[low_loss_idx]\n",
    "\n",
    "y_kmeans = clusters[low_loss_idx]"
   ]
  },
  {
   "cell_type": "markdown",
   "id": "8804e502",
   "metadata": {},
   "source": [
    "### Plot actual classfication and kmeans results"
   ]
  },
  {
   "cell_type": "code",
   "execution_count": 195,
   "id": "3c95d494",
   "metadata": {
    "ExecuteTime": {
     "end_time": "2021-08-29T17:36:02.193930Z",
     "start_time": "2021-08-29T17:36:01.868672Z"
    }
   },
   "outputs": [
    {
     "name": "stdout",
     "output_type": "stream",
     "text": [
      "explained variance ratio (first two components): [0.92461872 0.05306648]\n"
     ]
    },
    {
     "data": {
      "image/png": "[encoded data removed]",
      "text/plain": [
       "<Figure size 432x288 with 1 Axes>"
      ]
     },
     "metadata": {
      "needs_background": "light"
     },
     "output_type": "display_data"
    },
    {
     "name": "stdout",
     "output_type": "stream",
     "text": [
      "explained variance ratio (first two components): [0.92461872 0.05306648]\n"
     ]
    },
    {
     "data": {
      "image/png": "[encoded data removed]",
      "text/plain": [
       "<Figure size 432x288 with 1 Axes>"
      ]
     },
     "metadata": {
      "needs_background": "light"
     },
     "output_type": "display_data"
    }
   ],
   "source": [
    "plot_iris(X_r,y.ravel())\n",
    "\n",
    "plot_iris(X_r, y_kmeans, title = \"Plot from K-means\")"
   ]
  },
  {
   "cell_type": "markdown",
   "id": "c32e43b5",
   "metadata": {},
   "source": [
    "## Final OOP based K means"
   ]
  },
  {
   "cell_type": "code",
   "execution_count": 218,
   "id": "5ca9ac2e",
   "metadata": {
    "ExecuteTime": {
     "end_time": "2021-08-29T18:30:11.308167Z",
     "start_time": "2021-08-29T18:30:11.292550Z"
    }
   },
   "outputs": [],
   "source": [
    "class Kmeans:\n",
    "    def __init__(self, k, n_iter = 100, verbose = True):\n",
    "        self.k = k \n",
    "        self.n_iter = n_iter\n",
    "        self.verbose  = print if verbose  else  lambda *x: None\n",
    "    \n",
    "    def _preprocess(X):\n",
    "        return (X-X.mean(0))/X.std(0)\n",
    "    \n",
    "    def distance(X1,  X2):\n",
    "        \"\"\"\n",
    "        Calculate euclidean distance between X1 and X2\n",
    "        \"\"\"\n",
    "        return np.sqrt(np.mean((X1 - X2)**2, axis=1))\n",
    "\n",
    "    def loss(X,  Xc):\n",
    "        \"\"\"\n",
    "        Average distance error\n",
    "        \"\"\"\n",
    "        return distance(X, Xc).mean()\n",
    "\n",
    "    def _run_kmeans(self):\n",
    "        # Store loss value and centroid numbers\n",
    "        self.loss_centroid = []\n",
    "        # Store clusters in each iteration\n",
    "        self.clusters = []\n",
    "        for _ in range(n_iter):\n",
    "            # init centroid\n",
    "            centroid = self.X[np.random.choice(range(N),k)]\n",
    "            for _1 in range(1000):\n",
    "                # Cluster assignment\n",
    "                Xc = np.vstack([Kmeans.distance(self.X, centroid[i]) for i in range(k)]).argmin(0)\n",
    "                # Calculate loss\n",
    "                loss_tmp = Kmeans.loss(self.X, centroid[Xc])\n",
    "                # Define new centroid based on clusters\n",
    "                o_centroid = np.array([self.X[Xc  ==  i].mean(0) for i in np.unique(Xc)])\n",
    "\n",
    "                try:\n",
    "                    # If no change in centroid, stop\n",
    "                    if np.allclose(o_centroid, centroid):\n",
    "                        self.verbose(f\"Final loss at iter {_}: \",loss_tmp)\n",
    "                        self.verbose(\"Final centroids positions : \", o_centroid)\n",
    "                        break\n",
    "                    else:\n",
    "                        centroid= o_centroid\n",
    "                except:\n",
    "                    self.verbose(\"Centroids reduced to from k to k-1. Ignoring these cases\")\n",
    "                    break\n",
    "\n",
    "            self.loss_centroid.append([centroid, loss_tmp])\n",
    "            self.clusters.append(Xc)\n",
    "        \n",
    "            \n",
    "    def fit(self, X, y):\n",
    "        self.X = Kmeans._preprocess(X)\n",
    "        self.y = y\n",
    "        \n",
    "        self._run_kmeans()\n",
    "        self.loss_centroid = pd.DataFrame(self.loss_centroid, columns = ['centroid', 'loss'])\n",
    "        \n",
    "\n",
    "    def plot_iris(self, y = None, title = \"Scatter Plot by Clusters\"):\n",
    "        if y is None:\n",
    "            y = self.y\n",
    "        y =y.ravel()\n",
    "        pca = PCA(n_components=2)\n",
    "        self.X_r = pca.fit(self.X).transform(self.X)\n",
    "        # Percentage of variance explained for each components\n",
    "        self.verbose('explained variance ratio (first two components): %s'\n",
    "              % str(pca.explained_variance_ratio_))\n",
    "\n",
    "        plt.figure()\n",
    "        colors = ['navy', 'turquoise', 'darkorange']\n",
    "        lw = .5\n",
    "\n",
    "        for color, i in zip(colors, [0, 1, 2]):\n",
    "            plt.scatter(X_r[y == i, 0], X_r[y == i, 1], color=color, alpha=.8, lw=lw,\n",
    "                        label=f\"Cluster : {i}\")\n",
    "        plt.legend(loc='best', shadow=False, scatterpoints=1)\n",
    "        plt.title(title)\n",
    "\n",
    "        plt.show()\n",
    "\n",
    "    \n",
    "    def get_cluster(self):\n",
    "        low_loss_idx = self.loss_centroid['loss'].idxmin()\n",
    "        y_kmeans = self.clusters[low_loss_idx]\n",
    "        return y_kmeans\n",
    "    \n",
    "    def get_loss_(self):\n",
    "        return self.loss_centroid['loss'].min()\n",
    "\n",
    "    def get_centroid_(self):\n",
    "        low_loss_idx = self.loss_centroid['loss'].idxmin()\n",
    "        return self.loss_centroid.loc[low_loss_idx,'centroid']\n"
   ]
  },
  {
   "cell_type": "code",
   "execution_count": 219,
   "id": "23042fb3",
   "metadata": {
    "ExecuteTime": {
     "end_time": "2021-08-29T18:30:11.874617Z",
     "start_time": "2021-08-29T18:30:11.871562Z"
    }
   },
   "outputs": [],
   "source": [
    "km = Kmeans(3, verbose=False)\n",
    "\n",
    "km.fit(X,y)"
   ]
  },
  {
   "cell_type": "code",
   "execution_count": 221,
   "id": "3894c7fb",
   "metadata": {
    "ExecuteTime": {
     "end_time": "2021-08-29T18:30:12.411947Z",
     "start_time": "2021-08-29T18:30:12.249712Z"
    }
   },
   "outputs": [
    {
     "data": {
      "image/png": "[encoded data removed]",
      "text/plain": [
       "<Figure size 432x288 with 1 Axes>"
      ]
     },
     "metadata": {
      "needs_background": "light"
     },
     "output_type": "display_data"
    }
   ],
   "source": [
    "km.plot_iris(y, title=\"Scatter Plot of Actual data\")"
   ]
  },
  {
   "cell_type": "code",
   "execution_count": 222,
   "id": "4a40a234",
   "metadata": {
    "ExecuteTime": {
     "end_time": "2021-08-29T18:30:13.052326Z",
     "start_time": "2021-08-29T18:30:12.557030Z"
    }
   },
   "outputs": [
    {
     "data": {
      "image/png": "[encoded data removed]",
      "text/plain": [
       "<Figure size 432x288 with 1 Axes>"
      ]
     },
     "metadata": {
      "needs_background": "light"
     },
     "output_type": "display_data"
    }
   ],
   "source": [
    "km.plot_iris(km.get_cluster(), title=\"Scatter Plot of Kmeans data\")"
   ]
  },
  {
   "cell_type": "code",
   "execution_count": 223,
   "id": "6a0db0dc",
   "metadata": {
    "ExecuteTime": {
     "end_time": "2021-08-29T18:30:13.058042Z",
     "start_time": "2021-08-29T18:30:13.054491Z"
    }
   },
   "outputs": [
    {
     "data": {
      "text/plain": [
       "0.4299923903293611"
      ]
     },
     "execution_count": 223,
     "metadata": {},
     "output_type": "execute_result"
    }
   ],
   "source": [
    "km.get_loss_()"
   ]
  }
 ],
 "metadata": {
  "kernelspec": {
   "display_name": "Python 3 (ipykernel)",
   "language": "python",
   "name": "python3"
  },
  "language_info": {
   "codemirror_mode": {
    "name": "ipython",
    "version": 3
   },
   "file_extension": ".py",
   "mimetype": "text/x-python",
   "name": "python",
   "nbconvert_exporter": "python",
   "pygments_lexer": "ipython3",
   "version": "3.7.10"
  },
  "toc": {
   "base_numbering": 1,
   "nav_menu": {},
   "number_sections": true,
   "sideBar": true,
   "skip_h1_title": false,
   "title_cell": "Table of Contents",
   "title_sidebar": "Contents",
   "toc_cell": false,
   "toc_position": {},
   "toc_section_display": true,
   "toc_window_display": true
  }
 },
 "nbformat": 4,
 "nbformat_minor": 5
}
