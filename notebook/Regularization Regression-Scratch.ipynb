{
 "cells": [
  {
   "cell_type": "markdown",
   "id": "4635f914",
   "metadata": {
    "toc": true
   },
   "source": [
    "<h1>Table of Contents<span class=\"tocSkip\"></span></h1>\n",
    "<div class=\"toc\"><ul class=\"toc-item\"><li><span><a href=\"#Generating-Data-set\" data-toc-modified-id=\"Generating-Data-set-1\"><span class=\"toc-item-num\">1&nbsp;&nbsp;</span>Generating Data set</a></span></li><li><span><a href=\"#Setting-matrix\" data-toc-modified-id=\"Setting-matrix-2\"><span class=\"toc-item-num\">2&nbsp;&nbsp;</span>Setting matrix</a></span></li><li><span><a href=\"#Running-step-by-step-using-Gradient-descent\" data-toc-modified-id=\"Running-step-by-step-using-Gradient-descent-3\"><span class=\"toc-item-num\">3&nbsp;&nbsp;</span>Running step by step using Gradient descent</a></span><ul class=\"toc-item\"><li><span><a href=\"#Normalize-the-data\" data-toc-modified-id=\"Normalize-the-data-3.1\"><span class=\"toc-item-num\">3.1&nbsp;&nbsp;</span>Normalize the data</a></span></li><li><span><a href=\"#Assigning-weights-and-bias\" data-toc-modified-id=\"Assigning-weights-and-bias-3.2\"><span class=\"toc-item-num\">3.2&nbsp;&nbsp;</span>Assigning weights and bias</a></span><ul class=\"toc-item\"><li><span><a href=\"#Weights\" data-toc-modified-id=\"Weights-3.2.1\"><span class=\"toc-item-num\">3.2.1&nbsp;&nbsp;</span>Weights</a></span></li><li><span><a href=\"#Adding-bias-to-the-dataset\" data-toc-modified-id=\"Adding-bias-to-the-dataset-3.2.2\"><span class=\"toc-item-num\">3.2.2&nbsp;&nbsp;</span>Adding bias to the dataset</a></span></li><li><span><a href=\"#Learning-rate\" data-toc-modified-id=\"Learning-rate-3.2.3\"><span class=\"toc-item-num\">3.2.3&nbsp;&nbsp;</span>Learning rate</a></span></li></ul></li><li><span><a href=\"#Running-Gradient-descent\" data-toc-modified-id=\"Running-Gradient-descent-3.3\"><span class=\"toc-item-num\">3.3&nbsp;&nbsp;</span>Running Gradient descent</a></span></li><li><span><a href=\"#Checking-residual-plots\" data-toc-modified-id=\"Checking-residual-plots-3.4\"><span class=\"toc-item-num\">3.4&nbsp;&nbsp;</span>Checking residual plots</a></span></li></ul></li><li><span><a href=\"#Using-normal-equations-to-identify-parameters\" data-toc-modified-id=\"Using-normal-equations-to-identify-parameters-4\"><span class=\"toc-item-num\">4&nbsp;&nbsp;</span>Using normal equations to identify parameters</a></span></li><li><span><a href=\"#Linear-Regression-class\" data-toc-modified-id=\"Linear-Regression-class-5\"><span class=\"toc-item-num\">5&nbsp;&nbsp;</span>Linear Regression class</a></span></li><li><span><a href=\"#Regularized-Linear-Regression\" data-toc-modified-id=\"Regularized-Linear-Regression-6\"><span class=\"toc-item-num\">6&nbsp;&nbsp;</span>Regularized Linear Regression</a></span></li></ul></div>"
   ]
  },
  {
   "cell_type": "code",
   "execution_count": 1,
   "id": "2b37b1be",
   "metadata": {
    "ExecuteTime": {
     "end_time": "2021-08-31T02:39:03.519541Z",
     "start_time": "2021-08-31T02:39:02.145464Z"
    }
   },
   "outputs": [],
   "source": [
    "import pandas as pd\n",
    "import numpy as np\n",
    "\n",
    "from sklearn.datasets import fetch_california_housing"
   ]
  },
  {
   "cell_type": "markdown",
   "id": "801d85da",
   "metadata": {
    "ExecuteTime": {
     "end_time": "2021-08-29T02:29:36.784448Z",
     "start_time": "2021-08-29T02:29:36.775502Z"
    }
   },
   "source": [
    "## Generating Data set"
   ]
  },
  {
   "cell_type": "code",
   "execution_count": 2,
   "id": "8aaaec7c",
   "metadata": {
    "ExecuteTime": {
     "end_time": "2021-08-31T02:39:03.705839Z",
     "start_time": "2021-08-31T02:39:03.685536Z"
    }
   },
   "outputs": [
    {
     "name": "stdout",
     "output_type": "stream",
     "text": [
      ".. _california_housing_dataset:\n",
      "\n",
      "California Housing dataset\n",
      "--------------------------\n",
      "\n",
      "**Data Set Characteristics:**\n",
      "\n",
      "    :Number of Instances: 20640\n",
      "\n",
      "    :Number of Attributes: 8 numeric, predictive attributes and the target\n",
      "\n",
      "    :Attribute Information:\n",
      "        - MedInc        median income in block\n",
      "        - HouseAge      median house age in block\n",
      "        - AveRooms      average number of rooms\n",
      "        - AveBedrms     average number of bedrooms\n",
      "        - Population    block population\n",
      "        - AveOccup      average house occupancy\n",
      "        - Latitude      house block latitude\n",
      "        - Longitude     house block longitude\n",
      "\n",
      "    :Missing Attribute Values: None\n",
      "\n",
      "This dataset was obtained from the StatLib repository.\n",
      "http://lib.stat.cmu.edu/datasets/\n",
      "\n",
      "The target variable is the median house value for California districts.\n",
      "\n",
      "This dataset was derived from the 1990 U.S. census, using one row per census\n",
      "block group. A block group is the smallest geographical unit for which the U.S.\n",
      "Census Bureau publishes sample data (a block group typically has a population\n",
      "of 600 to 3,000 people).\n",
      "\n",
      "It can be downloaded/loaded using the\n",
      ":func:`sklearn.datasets.fetch_california_housing` function.\n",
      "\n",
      ".. topic:: References\n",
      "\n",
      "    - Pace, R. Kelley and Ronald Barry, Sparse Spatial Autoregressions,\n",
      "      Statistics and Probability Letters, 33 (1997) 291-297\n",
      "\n"
     ]
    }
   ],
   "source": [
    "raw_data_dict = fetch_california_housing()\n",
    "\n",
    "print(raw_data_dict['DESCR'])"
   ]
  },
  {
   "cell_type": "code",
   "execution_count": 3,
   "id": "979875c3",
   "metadata": {
    "ExecuteTime": {
     "end_time": "2021-08-31T02:39:04.147703Z",
     "start_time": "2021-08-31T02:39:04.143543Z"
    }
   },
   "outputs": [],
   "source": [
    "raw_df = pd.DataFrame(raw_data_dict['data'], columns = raw_data_dict['feature_names'])\n",
    "target_df = pd.DataFrame(raw_data_dict['target'], columns=raw_data_dict['target_names'])"
   ]
  },
  {
   "cell_type": "code",
   "execution_count": null,
   "id": "89a904b6",
   "metadata": {},
   "outputs": [],
   "source": []
  },
  {
   "cell_type": "code",
   "execution_count": 4,
   "id": "841db19c",
   "metadata": {
    "ExecuteTime": {
     "end_time": "2021-08-31T02:39:04.886058Z",
     "start_time": "2021-08-31T02:39:04.841418Z"
    }
   },
   "outputs": [
    {
     "data": {
      "text/html": [
       "<div>\n",
       "<style scoped>\n",
       "    .dataframe tbody tr th:only-of-type {\n",
       "        vertical-align: middle;\n",
       "    }\n",
       "\n",
       "    .dataframe tbody tr th {\n",
       "        vertical-align: top;\n",
       "    }\n",
       "\n",
       "    .dataframe thead th {\n",
       "        text-align: right;\n",
       "    }\n",
       "</style>\n",
       "<table border=\"1\" class=\"dataframe\">\n",
       "  <thead>\n",
       "    <tr style=\"text-align: right;\">\n",
       "      <th></th>\n",
       "      <th>MedInc</th>\n",
       "      <th>HouseAge</th>\n",
       "      <th>AveRooms</th>\n",
       "      <th>AveBedrms</th>\n",
       "      <th>Population</th>\n",
       "      <th>AveOccup</th>\n",
       "      <th>Latitude</th>\n",
       "      <th>Longitude</th>\n",
       "    </tr>\n",
       "  </thead>\n",
       "  <tbody>\n",
       "    <tr>\n",
       "      <th>count</th>\n",
       "      <td>20640.000000</td>\n",
       "      <td>20640.000000</td>\n",
       "      <td>20640.000000</td>\n",
       "      <td>20640.000000</td>\n",
       "      <td>20640.000000</td>\n",
       "      <td>20640.000000</td>\n",
       "      <td>20640.000000</td>\n",
       "      <td>20640.000000</td>\n",
       "    </tr>\n",
       "    <tr>\n",
       "      <th>mean</th>\n",
       "      <td>3.870671</td>\n",
       "      <td>28.639486</td>\n",
       "      <td>5.429000</td>\n",
       "      <td>1.096675</td>\n",
       "      <td>1425.476744</td>\n",
       "      <td>3.070655</td>\n",
       "      <td>35.631861</td>\n",
       "      <td>-119.569704</td>\n",
       "    </tr>\n",
       "    <tr>\n",
       "      <th>std</th>\n",
       "      <td>1.899822</td>\n",
       "      <td>12.585558</td>\n",
       "      <td>2.474173</td>\n",
       "      <td>0.473911</td>\n",
       "      <td>1132.462122</td>\n",
       "      <td>10.386050</td>\n",
       "      <td>2.135952</td>\n",
       "      <td>2.003532</td>\n",
       "    </tr>\n",
       "    <tr>\n",
       "      <th>min</th>\n",
       "      <td>0.499900</td>\n",
       "      <td>1.000000</td>\n",
       "      <td>0.846154</td>\n",
       "      <td>0.333333</td>\n",
       "      <td>3.000000</td>\n",
       "      <td>0.692308</td>\n",
       "      <td>32.540000</td>\n",
       "      <td>-124.350000</td>\n",
       "    </tr>\n",
       "    <tr>\n",
       "      <th>25%</th>\n",
       "      <td>2.563400</td>\n",
       "      <td>18.000000</td>\n",
       "      <td>4.440716</td>\n",
       "      <td>1.006079</td>\n",
       "      <td>787.000000</td>\n",
       "      <td>2.429741</td>\n",
       "      <td>33.930000</td>\n",
       "      <td>-121.800000</td>\n",
       "    </tr>\n",
       "    <tr>\n",
       "      <th>50%</th>\n",
       "      <td>3.534800</td>\n",
       "      <td>29.000000</td>\n",
       "      <td>5.229129</td>\n",
       "      <td>1.048780</td>\n",
       "      <td>1166.000000</td>\n",
       "      <td>2.818116</td>\n",
       "      <td>34.260000</td>\n",
       "      <td>-118.490000</td>\n",
       "    </tr>\n",
       "    <tr>\n",
       "      <th>75%</th>\n",
       "      <td>4.743250</td>\n",
       "      <td>37.000000</td>\n",
       "      <td>6.052381</td>\n",
       "      <td>1.099526</td>\n",
       "      <td>1725.000000</td>\n",
       "      <td>3.282261</td>\n",
       "      <td>37.710000</td>\n",
       "      <td>-118.010000</td>\n",
       "    </tr>\n",
       "    <tr>\n",
       "      <th>max</th>\n",
       "      <td>15.000100</td>\n",
       "      <td>52.000000</td>\n",
       "      <td>141.909091</td>\n",
       "      <td>34.066667</td>\n",
       "      <td>35682.000000</td>\n",
       "      <td>1243.333333</td>\n",
       "      <td>41.950000</td>\n",
       "      <td>-114.310000</td>\n",
       "    </tr>\n",
       "  </tbody>\n",
       "</table>\n",
       "</div>"
      ],
      "text/plain": [
       "             MedInc      HouseAge      AveRooms     AveBedrms    Population  \\\n",
       "count  20640.000000  20640.000000  20640.000000  20640.000000  20640.000000   \n",
       "mean       3.870671     28.639486      5.429000      1.096675   1425.476744   \n",
       "std        1.899822     12.585558      2.474173      0.473911   1132.462122   \n",
       "min        0.499900      1.000000      0.846154      0.333333      3.000000   \n",
       "25%        2.563400     18.000000      4.440716      1.006079    787.000000   \n",
       "50%        3.534800     29.000000      5.229129      1.048780   1166.000000   \n",
       "75%        4.743250     37.000000      6.052381      1.099526   1725.000000   \n",
       "max       15.000100     52.000000    141.909091     34.066667  35682.000000   \n",
       "\n",
       "           AveOccup      Latitude     Longitude  \n",
       "count  20640.000000  20640.000000  20640.000000  \n",
       "mean       3.070655     35.631861   -119.569704  \n",
       "std       10.386050      2.135952      2.003532  \n",
       "min        0.692308     32.540000   -124.350000  \n",
       "25%        2.429741     33.930000   -121.800000  \n",
       "50%        2.818116     34.260000   -118.490000  \n",
       "75%        3.282261     37.710000   -118.010000  \n",
       "max     1243.333333     41.950000   -114.310000  "
      ]
     },
     "execution_count": 4,
     "metadata": {},
     "output_type": "execute_result"
    }
   ],
   "source": [
    "raw_df.describe()"
   ]
  },
  {
   "cell_type": "code",
   "execution_count": 5,
   "id": "b60f17db",
   "metadata": {
    "ExecuteTime": {
     "end_time": "2021-08-31T02:39:05.087221Z",
     "start_time": "2021-08-31T02:39:05.073608Z"
    }
   },
   "outputs": [
    {
     "data": {
      "text/html": [
       "<div>\n",
       "<style scoped>\n",
       "    .dataframe tbody tr th:only-of-type {\n",
       "        vertical-align: middle;\n",
       "    }\n",
       "\n",
       "    .dataframe tbody tr th {\n",
       "        vertical-align: top;\n",
       "    }\n",
       "\n",
       "    .dataframe thead th {\n",
       "        text-align: right;\n",
       "    }\n",
       "</style>\n",
       "<table border=\"1\" class=\"dataframe\">\n",
       "  <thead>\n",
       "    <tr style=\"text-align: right;\">\n",
       "      <th></th>\n",
       "      <th>MedHouseVal</th>\n",
       "    </tr>\n",
       "  </thead>\n",
       "  <tbody>\n",
       "    <tr>\n",
       "      <th>count</th>\n",
       "      <td>20640.000000</td>\n",
       "    </tr>\n",
       "    <tr>\n",
       "      <th>mean</th>\n",
       "      <td>2.068558</td>\n",
       "    </tr>\n",
       "    <tr>\n",
       "      <th>std</th>\n",
       "      <td>1.153956</td>\n",
       "    </tr>\n",
       "    <tr>\n",
       "      <th>min</th>\n",
       "      <td>0.149990</td>\n",
       "    </tr>\n",
       "    <tr>\n",
       "      <th>25%</th>\n",
       "      <td>1.196000</td>\n",
       "    </tr>\n",
       "    <tr>\n",
       "      <th>50%</th>\n",
       "      <td>1.797000</td>\n",
       "    </tr>\n",
       "    <tr>\n",
       "      <th>75%</th>\n",
       "      <td>2.647250</td>\n",
       "    </tr>\n",
       "    <tr>\n",
       "      <th>max</th>\n",
       "      <td>5.000010</td>\n",
       "    </tr>\n",
       "  </tbody>\n",
       "</table>\n",
       "</div>"
      ],
      "text/plain": [
       "        MedHouseVal\n",
       "count  20640.000000\n",
       "mean       2.068558\n",
       "std        1.153956\n",
       "min        0.149990\n",
       "25%        1.196000\n",
       "50%        1.797000\n",
       "75%        2.647250\n",
       "max        5.000010"
      ]
     },
     "execution_count": 5,
     "metadata": {},
     "output_type": "execute_result"
    }
   ],
   "source": [
    "target_df.describe()"
   ]
  },
  {
   "cell_type": "markdown",
   "id": "dc6c7dc5",
   "metadata": {},
   "source": [
    "## Setting matrix"
   ]
  },
  {
   "cell_type": "code",
   "execution_count": 6,
   "id": "19e63f28",
   "metadata": {
    "ExecuteTime": {
     "end_time": "2021-08-31T02:39:05.506203Z",
     "start_time": "2021-08-31T02:39:05.503463Z"
    }
   },
   "outputs": [],
   "source": [
    "X = raw_data_dict['data']"
   ]
  },
  {
   "cell_type": "code",
   "execution_count": 7,
   "id": "64cc2cf2",
   "metadata": {
    "ExecuteTime": {
     "end_time": "2021-08-31T02:39:05.685137Z",
     "start_time": "2021-08-31T02:39:05.682884Z"
    }
   },
   "outputs": [],
   "source": [
    "y = raw_data_dict['target'].reshape(-1,1)"
   ]
  },
  {
   "cell_type": "code",
   "execution_count": 8,
   "id": "f405a007",
   "metadata": {
    "ExecuteTime": {
     "end_time": "2021-08-31T02:39:06.126881Z",
     "start_time": "2021-08-31T02:39:06.121258Z"
    }
   },
   "outputs": [
    {
     "data": {
      "text/plain": [
       "(20640, 8)"
      ]
     },
     "execution_count": 8,
     "metadata": {},
     "output_type": "execute_result"
    }
   ],
   "source": [
    "X.shape"
   ]
  },
  {
   "cell_type": "code",
   "execution_count": 9,
   "id": "9f00fb49",
   "metadata": {
    "ExecuteTime": {
     "end_time": "2021-08-31T02:39:06.372683Z",
     "start_time": "2021-08-31T02:39:06.369807Z"
    }
   },
   "outputs": [],
   "source": [
    "N,c = X.shape"
   ]
  },
  {
   "cell_type": "markdown",
   "id": "2ec46dcf",
   "metadata": {},
   "source": [
    "## Running step by step using Gradient descent"
   ]
  },
  {
   "cell_type": "markdown",
   "id": "5d6c92d3",
   "metadata": {},
   "source": [
    "### Normalize the data"
   ]
  },
  {
   "cell_type": "code",
   "execution_count": 10,
   "id": "96002458",
   "metadata": {
    "ExecuteTime": {
     "end_time": "2021-08-31T02:39:06.806552Z",
     "start_time": "2021-08-31T02:39:06.799797Z"
    }
   },
   "outputs": [
    {
     "data": {
      "text/plain": [
       "(array([ 3.87067100e+00,  2.86394864e+01,  5.42899974e+00,  1.09667515e+00,\n",
       "         1.42547674e+03,  3.07065516e+00,  3.56318614e+01, -1.19569704e+02]),\n",
       " array([1.89977569e+00, 1.25852527e+01, 2.47411320e+00, 4.73899376e-01,\n",
       "        1.13243469e+03, 1.03857980e+01, 2.13590065e+00, 2.00348319e+00]))"
      ]
     },
     "execution_count": 10,
     "metadata": {},
     "output_type": "execute_result"
    }
   ],
   "source": [
    "# Mean and Standard deviation for each axis\n",
    "X.mean(0), X.std(0)"
   ]
  },
  {
   "cell_type": "code",
   "execution_count": 11,
   "id": "de4704bc",
   "metadata": {
    "ExecuteTime": {
     "end_time": "2021-08-31T02:39:07.068219Z",
     "start_time": "2021-08-31T02:39:07.062937Z"
    }
   },
   "outputs": [],
   "source": [
    "X =( X - X.mean(0))/X.std(0)"
   ]
  },
  {
   "cell_type": "code",
   "execution_count": 12,
   "id": "5d9bd395",
   "metadata": {
    "ExecuteTime": {
     "end_time": "2021-08-31T02:39:07.342436Z",
     "start_time": "2021-08-31T02:39:07.337311Z"
    }
   },
   "outputs": [
    {
     "data": {
      "text/plain": [
       "(20640, 8)"
      ]
     },
     "execution_count": 12,
     "metadata": {},
     "output_type": "execute_result"
    }
   ],
   "source": [
    "X.shape"
   ]
  },
  {
   "cell_type": "markdown",
   "id": "ced7a146",
   "metadata": {},
   "source": [
    "### Assigning weights and bias"
   ]
  },
  {
   "cell_type": "markdown",
   "id": "151663d9",
   "metadata": {},
   "source": [
    "#### Weights"
   ]
  },
  {
   "cell_type": "code",
   "execution_count": 13,
   "id": "cccc492b",
   "metadata": {
    "ExecuteTime": {
     "end_time": "2021-08-31T02:39:07.958999Z",
     "start_time": "2021-08-31T02:39:07.955884Z"
    }
   },
   "outputs": [],
   "source": [
    "# Weights\n",
    "w = np.random.randn(c+1,1)"
   ]
  },
  {
   "cell_type": "markdown",
   "id": "e91e757b",
   "metadata": {},
   "source": [
    "#### Adding bias to the dataset"
   ]
  },
  {
   "cell_type": "code",
   "execution_count": 14,
   "id": "6bcf4a59",
   "metadata": {
    "ExecuteTime": {
     "end_time": "2021-08-31T02:39:08.348700Z",
     "start_time": "2021-08-31T02:39:08.344525Z"
    }
   },
   "outputs": [],
   "source": [
    "X = np.hstack([np.ones_like(X[:,[1]]),X])"
   ]
  },
  {
   "cell_type": "markdown",
   "id": "5ae54a2e",
   "metadata": {},
   "source": [
    "#### Learning rate"
   ]
  },
  {
   "cell_type": "code",
   "execution_count": 15,
   "id": "7d776544",
   "metadata": {
    "ExecuteTime": {
     "end_time": "2021-08-31T02:39:08.748168Z",
     "start_time": "2021-08-31T02:39:08.745621Z"
    }
   },
   "outputs": [],
   "source": [
    "learning_rate = 1e-5"
   ]
  },
  {
   "cell_type": "code",
   "execution_count": 16,
   "id": "37be526a",
   "metadata": {
    "ExecuteTime": {
     "end_time": "2021-08-31T02:39:08.924674Z",
     "start_time": "2021-08-31T02:39:08.921875Z"
    }
   },
   "outputs": [],
   "source": [
    "n_iter = 100"
   ]
  },
  {
   "cell_type": "markdown",
   "id": "7440c0ef",
   "metadata": {},
   "source": [
    "### Running Gradient descent"
   ]
  },
  {
   "cell_type": "code",
   "execution_count": 17,
   "id": "257a2d24",
   "metadata": {
    "ExecuteTime": {
     "end_time": "2021-08-31T02:39:09.319769Z",
     "start_time": "2021-08-31T02:39:09.316106Z"
    }
   },
   "outputs": [],
   "source": [
    "def mse(y, yhat):\n",
    "    return np.mean((y-yhat)**2)"
   ]
  },
  {
   "cell_type": "code",
   "execution_count": 18,
   "id": "4a822d1c",
   "metadata": {
    "ExecuteTime": {
     "end_time": "2021-08-31T02:39:09.529047Z",
     "start_time": "2021-08-31T02:39:09.523882Z"
    }
   },
   "outputs": [
    {
     "data": {
      "text/plain": [
       "((20640, 9), (9, 1))"
      ]
     },
     "execution_count": 18,
     "metadata": {},
     "output_type": "execute_result"
    }
   ],
   "source": [
    "X.shape, w.shape"
   ]
  },
  {
   "cell_type": "code",
   "execution_count": 19,
   "id": "b41cea78",
   "metadata": {
    "ExecuteTime": {
     "end_time": "2021-08-31T02:39:09.752574Z",
     "start_time": "2021-08-31T02:39:09.747527Z"
    }
   },
   "outputs": [],
   "source": [
    "yhat = np.dot(X,w)"
   ]
  },
  {
   "cell_type": "code",
   "execution_count": 20,
   "id": "6e95ed52",
   "metadata": {
    "ExecuteTime": {
     "end_time": "2021-08-31T02:39:09.950933Z",
     "start_time": "2021-08-31T02:39:09.946627Z"
    }
   },
   "outputs": [
    {
     "data": {
      "text/plain": [
       "22.635888598309332"
      ]
     },
     "execution_count": 20,
     "metadata": {},
     "output_type": "execute_result"
    }
   ],
   "source": [
    "# Loss\n",
    "mse(y, yhat)"
   ]
  },
  {
   "cell_type": "code",
   "execution_count": 21,
   "id": "390d8d07",
   "metadata": {
    "ExecuteTime": {
     "end_time": "2021-08-31T02:39:10.833744Z",
     "start_time": "2021-08-31T02:39:10.129159Z"
    },
    "scrolled": true
   },
   "outputs": [
    {
     "name": "stdout",
     "output_type": "stream",
     "text": [
      "Loss at 1 : 22.635888598309332\n",
      "Loss at 2 : 13.715453051124705\n",
      "Loss at 3 : 8.591713829648883\n",
      "Loss at 4 : 5.554137295361785\n",
      "Loss at 5 : 3.7141857843784125\n",
      "Loss at 6 : 2.583571571904774\n",
      "Loss at 7 : 1.8820241409918335\n",
      "Loss at 8 : 1.4436039188827985\n",
      "Loss at 9 : 1.1679872155575588\n",
      "Loss at 10 : 0.9936875974222155\n",
      "Loss at 11 : 0.8826894085985992\n",
      "Loss at 12 : 0.8113553280453261\n",
      "Loss at 13 : 0.7649336424641024\n",
      "Loss at 14 : 0.734194816374731\n",
      "Loss at 15 : 0.713353848812389\n",
      "Loss at 16 : 0.6987796309101266\n",
      "Loss at 17 : 0.6881902350693933\n",
      "Loss at 18 : 0.680149939444856\n",
      "Loss at 19 : 0.6737543061988429\n",
      "Loss at 20 : 0.6684327537719577\n",
      "Loss at 21 : 0.663824665228039\n",
      "Loss at 22 : 0.6597015788473347\n",
      "Loss at 23 : 0.6559182848629185\n",
      "Loss at 24 : 0.6523820687067784\n",
      "Loss at 25 : 0.649033354044438\n",
      "Loss at 26 : 0.6458335118002387\n",
      "Loss at 27 : 0.6427571765310536\n",
      "Loss at 28 : 0.6397873996242138\n",
      "Loss at 29 : 0.6369125890674754\n",
      "Loss at 30 : 0.6341245751313679\n",
      "Loss at 31 : 0.6314173861400489\n",
      "Loss at 32 : 0.6287864724519495\n",
      "Loss at 33 : 0.6262282136178291\n",
      "Loss at 34 : 0.6237396046421153\n",
      "Loss at 35 : 0.6213180556641503\n",
      "Loss at 36 : 0.6189612635686936\n",
      "Loss at 37 : 0.6166671292907622\n",
      "Loss at 38 : 0.6144337042071872\n",
      "Loss at 39 : 0.6122591550877938\n",
      "Loss at 40 : 0.6101417409231799\n",
      "Loss at 41 : 0.6080797973789368\n",
      "Loss at 42 : 0.6060717261678191\n",
      "Loss at 43 : 0.6041159876097053\n",
      "Loss at 44 : 0.6022110952710936\n",
      "Loss at 45 : 0.6003556119719449\n",
      "Loss at 46 : 0.5985481467005056\n",
      "Loss at 47 : 0.5967873521385308\n",
      "Loss at 48 : 0.5950719226031592\n",
      "Loss at 49 : 0.5934005922785606\n",
      "Loss at 50 : 0.591772133653698\n",
      "Loss at 51 : 0.5901853561106072\n",
      "Loss at 52 : 0.5886391046258996\n",
      "Loss at 53 : 0.5871322585602045\n",
      "Loss at 54 : 0.5856637305181821\n",
      "Loss at 55 : 0.5842324652670127\n",
      "Loss at 56 : 0.5828374387047766\n",
      "Loss at 57 : 0.5814776568725284\n",
      "Loss at 58 : 0.5801521550054757\n",
      "Loss at 59 : 0.5788599966197935\n",
      "Loss at 60 : 0.5776002726323691\n",
      "Loss at 61 : 0.5763721005113247\n",
      "Loss at 62 : 0.5751746234555405\n",
      "Loss at 63 : 0.5740070096016908\n",
      "Loss at 64 : 0.5728684512575\n",
      "Loss at 65 : 0.571758164160087\n",
      "Loss at 66 : 0.5706753867583755\n",
      "Loss at 67 : 0.5696193795186418\n",
      "Loss at 68 : 0.5685894242523385\n",
      "Loss at 69 : 0.567584823465397\n",
      "Loss at 70 : 0.5666048997282511\n",
      "Loss at 71 : 0.5656489950658705\n",
      "Loss at 72 : 0.5647164703671251\n",
      "Loss at 73 : 0.5638067048128318\n",
      "Loss at 74 : 0.5629190953218629\n",
      "Loss at 75 : 0.5620530560147218\n",
      "Loss at 76 : 0.5612080176940116\n",
      "Loss at 77 : 0.5603834273412442\n",
      "Loss at 78 : 0.5595787476294622\n",
      "Loss at 79 : 0.5587934564511541\n",
      "Loss at 80 : 0.5580270464609731\n",
      "Loss at 81 : 0.5572790246327803\n",
      "Loss at 82 : 0.5565489118305452\n",
      "Loss at 83 : 0.5558362423926658\n",
      "Loss at 84 : 0.5551405637292673\n",
      "Loss at 85 : 0.5544614359320681\n",
      "Loss at 86 : 0.5537984313964083\n",
      "Loss at 87 : 0.553151134455048\n",
      "Loss at 88 : 0.5525191410233623\n",
      "Loss at 89 : 0.5519020582555619\n",
      "Loss at 90 : 0.5512995042115924\n",
      "Loss at 91 : 0.5507111075343677\n",
      "Loss at 92 : 0.5501365071370052\n",
      "Loss at 93 : 0.5495753518997482\n",
      "Loss at 94 : 0.5490273003762595\n",
      "Loss at 95 : 0.5484920205089959\n",
      "Loss at 96 : 0.5479691893533639\n",
      "Loss at 97 : 0.5474584928103856\n",
      "Loss at 98 : 0.5469596253675985\n",
      "Loss at 99 : 0.5464722898479283\n",
      "Loss at 100 : 0.5459961971662834\n",
      "Loss at 101 : 0.5455310660936215\n",
      "Loss at 102 : 0.5450766230282559\n",
      "Loss at 103 : 0.5446326017741666\n",
      "Loss at 104 : 0.5441987433260986\n",
      "Loss at 105 : 0.5437747956612302\n",
      "Loss at 106 : 0.5433605135372013\n",
      "Loss at 107 : 0.5429556582963058\n",
      "Loss at 108 : 0.5425599976756468\n",
      "Loss at 109 : 0.5421733056230713\n",
      "Loss at 110 : 0.5417953621186994\n",
      "Loss at 111 : 0.5414259530018709\n",
      "Loss at 112 : 0.5410648698033416\n",
      "Loss at 113 : 0.5407119095825597\n",
      "Loss at 114 : 0.5403668747698671\n",
      "Loss at 115 : 0.540029573013465\n",
      "Loss at 116 : 0.5396998170310014\n",
      "Loss at 117 : 0.5393774244656273\n",
      "Loss at 118 : 0.539062217746388\n",
      "Loss at 119 : 0.53875402395281\n",
      "Loss at 120 : 0.5384526746835533\n",
      "Loss at 121 : 0.5381580059290018\n",
      "Loss at 122 : 0.5378698579476686\n",
      "Loss at 123 : 0.5375880751462963\n",
      "Loss at 124 : 0.5373125059635387\n",
      "Loss at 125 : 0.5370430027571107\n",
      "Loss at 126 : 0.5367794216942988\n",
      "Loss at 127 : 0.5365216226457277\n",
      "Loss at 128 : 0.5362694690822818\n",
      "Loss at 129 : 0.5360228279750839\n",
      "Loss at 130 : 0.535781569698435\n",
      "Loss at 131 : 0.5355455679356246\n",
      "Loss at 132 : 0.5353146995875225\n",
      "Loss at 133 : 0.5350888446838659\n",
      "Loss at 134 : 0.5348678862971566\n",
      "Loss at 135 : 0.5346517104590924\n",
      "Loss at 136 : 0.5344402060794486\n",
      "Loss at 137 : 0.5342332648673389\n",
      "Loss at 138 : 0.5340307812547795\n",
      "Loss at 139 : 0.5338326523224877\n",
      "Loss at 140 : 0.5336387777278435\n",
      "Loss at 141 : 0.5334490596349523\n",
      "Loss at 142 : 0.5332634026467389\n",
      "Loss at 143 : 0.5330817137390148\n",
      "Loss at 144 : 0.5329039021964567\n",
      "Loss at 145 : 0.5327298795504377\n",
      "Loss at 146 : 0.532559559518656\n",
      "Loss at 147 : 0.5323928579465033\n",
      "Loss at 148 : 0.5322296927501243\n",
      "Loss at 149 : 0.5320699838611125\n",
      "Loss at 150 : 0.5319136531727927\n",
      "Loss at 151 : 0.5317606244880446\n",
      "Loss at 152 : 0.5316108234686185\n",
      "Loss at 153 : 0.531464177585898\n",
      "Loss at 154 : 0.531320616073068\n",
      "Loss at 155 : 0.5311800698786423\n",
      "Loss at 156 : 0.5310424716213135\n",
      "Loss at 157 : 0.5309077555460827\n",
      "Loss at 158 : 0.5307758574816309\n",
      "Loss at 159 : 0.5306467147988966\n",
      "Loss at 160 : 0.53052026637082\n",
      "Loss at 161 : 0.5303964525332229\n",
      "Loss at 162 : 0.5302752150467882\n",
      "Loss at 163 : 0.5301564970601047\n",
      "Loss at 164 : 0.5300402430737483\n",
      "Loss at 165 : 0.5299263989053672\n",
      "Loss at 166 : 0.5298149116557418\n",
      "Loss at 167 : 0.5297057296757889\n",
      "Loss at 168 : 0.5295988025344842\n",
      "Loss at 169 : 0.5294940809876756\n",
      "Loss at 170 : 0.5293915169477575\n",
      "Loss at 171 : 0.5292910634541877\n",
      "Loss at 172 : 0.5291926746448139\n",
      "Loss at 173 : 0.5290963057279919\n",
      "Loss at 174 : 0.5290019129554708\n",
      "Loss at 175 : 0.5289094535960187\n",
      "Loss at 176 : 0.5288188859097754\n",
      "Loss at 177 : 0.5287301691233018\n",
      "Loss at 178 : 0.5286432634053118\n",
      "Loss at 179 : 0.5285581298430642\n",
      "Loss at 180 : 0.5284747304193964\n",
      "Loss at 181 : 0.5283930279903798\n",
      "Loss at 182 : 0.5283129862635809\n",
      "Loss at 183 : 0.5282345697769081\n",
      "Loss at 184 : 0.5281577438780299\n",
      "Loss at 185 : 0.5280824747043457\n",
      "Loss at 186 : 0.5280087291634944\n",
      "Loss at 187 : 0.5279364749143849\n",
      "Loss at 188 : 0.5278656803487345\n",
      "Loss at 189 : 0.5277963145730983\n",
      "Loss at 190 : 0.5277283473913783\n",
      "Loss at 191 : 0.527661749287796\n",
      "Loss at 192 : 0.5275964914103177\n",
      "Loss at 193 : 0.5275325455545168\n",
      "Loss at 194 : 0.5274698841478636\n",
      "Loss at 195 : 0.5274084802344274\n",
      "Loss at 196 : 0.5273483074599825\n",
      "Loss at 197 : 0.5272893400575035\n",
      "Loss at 198 : 0.527231552833041\n",
      "Loss at 199 : 0.5271749211519658\n",
      "Loss at 200 : 0.5271194209255725\n",
      "Loss at 201 : 0.527065028598031\n",
      "Loss at 202 : 0.5270117211336758\n",
      "Loss at 203 : 0.5269594760046276\n",
      "Loss at 204 : 0.5269082711787304\n",
      "Loss at 205 : 0.5268580851078039\n",
      "Loss at 206 : 0.526808896716195\n",
      "Loss at 207 : 0.5267606853896263\n",
      "Loss at 208 : 0.5267134309643274\n",
      "Loss at 209 : 0.5266671137164463\n",
      "Loss at 210 : 0.5266217143517298\n",
      "Loss at 211 : 0.5265772139954676\n",
      "Loss at 212 : 0.5265335941826911\n",
      "Loss at 213 : 0.5264908368486205\n",
      "Loss at 214 : 0.5264489243193549\n",
      "Loss at 215 : 0.5264078393027957\n",
      "Loss at 216 : 0.5263675648797997\n",
      "Loss at 217 : 0.5263280844955549\n",
      "Loss at 218 : 0.5262893819511706\n",
      "Loss at 219 : 0.5262514413954807\n",
      "Loss at 220 : 0.5262142473170496\n",
      "Loss at 221 : 0.526177784536378\n",
      "Loss at 222 : 0.5261420381983026\n",
      "Loss at 223 : 0.5261069937645846\n",
      "Loss at 224 : 0.5260726370066806\n",
      "Loss at 225 : 0.5260389539986934\n",
      "Loss at 226 : 0.5260059311104954\n",
      "Loss at 227 : 0.5259735550010228\n",
      "Loss at 228 : 0.5259418126117317\n",
      "Loss at 229 : 0.5259106911602172\n",
      "Loss at 230 : 0.5258801781339866\n",
      "Loss at 231 : 0.5258502612843858\n",
      "Loss at 232 : 0.5258209286206723\n",
      "Loss at 233 : 0.5257921684042327\n",
      "Loss at 234 : 0.52576396914294\n",
      "Loss at 235 : 0.525736319585648\n",
      "Loss at 236 : 0.5257092087168179\n",
      "Loss at 237 : 0.5256826257512742\n",
      "Loss at 238 : 0.5256565601290872\n",
      "Loss at 239 : 0.525631001510577\n",
      "Loss at 240 : 0.525605939771439\n",
      "Loss at 241 : 0.5255813649979834\n",
      "Loss at 242 : 0.5255572674824904\n",
      "Loss at 243 : 0.5255336377186732\n",
      "Loss at 244 : 0.5255104663972517\n",
      "Loss at 245 : 0.5254877444016283\n",
      "Loss at 246 : 0.525465462803667\n",
      "Loss at 247 : 0.5254436128595728\n",
      "Loss at 248 : 0.5254221860058659\n",
      "Loss at 249 : 0.5254011738554527\n",
      "Loss at 250 : 0.5253805681937872\n",
      "Loss at 251 : 0.5253603609751232\n",
      "Loss at 252 : 0.5253405443188531\n",
      "Loss at 253 : 0.5253211105059331\n",
      "Loss at 254 : 0.5253020519753896\n",
      "Loss at 255 : 0.5252833613209086\n",
      "Loss at 256 : 0.5252650312875032\n",
      "Loss at 257 : 0.5252470547682576\n",
      "Loss at 258 : 0.5252294248011469\n",
      "Loss at 259 : 0.5252121345659299\n",
      "Loss at 260 : 0.5251951773811132\n",
      "Loss at 261 : 0.5251785467009839\n",
      "Loss at 262 : 0.5251622361127122\n",
      "Loss at 263 : 0.5251462393335187\n",
      "Loss at 264 : 0.525130550207906\n",
      "Loss at 265 : 0.5251151627049545\n",
      "Loss at 266 : 0.5251000709156783\n",
      "Loss at 267 : 0.5250852690504416\n",
      "Loss at 268 : 0.525070751436434\n",
      "Loss at 269 : 0.5250565125152012\n",
      "Loss at 270 : 0.5250425468402337\n",
      "Loss at 271 : 0.5250288490746065\n",
      "Loss at 272 : 0.5250154139886757\n",
      "Loss at 273 : 0.5250022364578224\n",
      "Loss at 274 : 0.5249893114602513\n",
      "Loss at 275 : 0.5249766340748345\n",
      "Loss at 276 : 0.5249641994790064\n",
      "Loss at 277 : 0.5249520029467037\n",
      "Loss at 278 : 0.5249400398463516\n",
      "Loss at 279 : 0.5249283056388944\n",
      "Loss at 280 : 0.5249167958758699\n"
     ]
    },
    {
     "name": "stdout",
     "output_type": "stream",
     "text": [
      "Loss at 281 : 0.5249055061975271\n",
      "Loss at 282 : 0.5248944323309828\n",
      "Loss at 283 : 0.524883570088422\n",
      "Loss at 284 : 0.5248729153653356\n",
      "Loss at 285 : 0.5248624641387977\n",
      "Loss at 286 : 0.5248522124657796\n",
      "Loss at 287 : 0.5248421564815028\n",
      "Loss at 288 : 0.5248322923978248\n",
      "Loss at 289 : 0.5248226165016628\n",
      "Loss at 290 : 0.5248131251534505\n",
      "Loss at 291 : 0.5248038147856278\n",
      "Loss at 292 : 0.5247946819011646\n",
      "Loss at 293 : 0.5247857230721159\n",
      "Loss at 294 : 0.5247769349382072\n",
      "Loss at 295 : 0.5247683142054518\n",
      "Loss at 296 : 0.5247598576447973\n",
      "Loss at 297 : 0.5247515620908016\n",
      "Loss at 298 : 0.5247434244403357\n",
      "Loss at 299 : 0.5247354416513166\n",
      "Loss at 300 : 0.5247276107414658\n",
      "Loss at 301 : 0.5247199287870947\n",
      "Loss at 302 : 0.5247123929219157\n",
      "Loss at 303 : 0.5247050003358796\n",
      "Loss at 304 : 0.5246977482740359\n",
      "Loss at 305 : 0.5246906340354195\n",
      "Loss at 306 : 0.5246836549719587\n",
      "Loss at 307 : 0.5246768084874085\n",
      "Loss at 308 : 0.5246700920363049\n",
      "Loss at 309 : 0.5246635031229417\n",
      "Loss at 310 : 0.5246570393003694\n",
      "Loss at 311 : 0.5246506981694146\n",
      "Loss at 312 : 0.5246444773777198\n",
      "Loss at 313 : 0.5246383746188045\n",
      "Loss at 314 : 0.5246323876311442\n",
      "Loss at 315 : 0.5246265141972706\n",
      "Loss at 316 : 0.5246207521428891\n",
      "Loss at 317 : 0.5246150993360157\n",
      "Loss at 318 : 0.5246095536861312\n",
      "Loss at 319 : 0.5246041131433536\n",
      "Loss at 320 : 0.5245987756976275\n",
      "Loss at 321 : 0.5245935393779295\n",
      "Loss at 322 : 0.5245884022514924\n",
      "Loss at 323 : 0.5245833624230422\n",
      "Loss at 324 : 0.524578418034054\n",
      "Loss at 325 : 0.5245735672620212\n",
      "Loss at 326 : 0.5245688083197405\n",
      "Loss at 327 : 0.524564139454612\n",
      "Loss at 328 : 0.524559558947953\n",
      "Loss at 329 : 0.5245550651143267\n",
      "Loss at 330 : 0.5245506563008836\n",
      "Loss at 331 : 0.5245463308867172\n",
      "Loss at 332 : 0.524542087282234\n",
      "Loss at 333 : 0.5245379239285328\n",
      "Loss at 334 : 0.5245338392968019\n",
      "Loss at 335 : 0.5245298318877228\n",
      "Loss at 336 : 0.5245259002308919\n",
      "Loss at 337 : 0.5245220428842486\n",
      "Loss at 338 : 0.5245182584335198\n",
      "Loss at 339 : 0.524514545491672\n",
      "Loss at 340 : 0.5245109026983761\n",
      "Loss at 341 : 0.5245073287194839\n",
      "Loss at 342 : 0.5245038222465135\n",
      "Loss at 343 : 0.5245003819961458\n",
      "Loss at 344 : 0.5244970067097323\n",
      "Loss at 345 : 0.5244936951528105\n",
      "Loss at 346 : 0.5244904461146315\n",
      "Loss at 347 : 0.5244872584076954\n",
      "Loss at 348 : 0.5244841308672971\n",
      "Loss at 349 : 0.5244810623510806\n",
      "Loss at 350 : 0.524478051738603\n",
      "Loss at 351 : 0.5244750979309063\n",
      "Loss at 352 : 0.5244721998500984\n",
      "Loss at 353 : 0.5244693564389427\n",
      "Loss at 354 : 0.5244665666604551\n",
      "Loss at 355 : 0.5244638294975105\n",
      "Loss at 356 : 0.524461143952455\n",
      "Loss at 357 : 0.5244585090467283\n",
      "Loss at 358 : 0.5244559238204918\n",
      "Loss at 359 : 0.5244533873322649\n",
      "Loss at 360 : 0.5244508986585688\n",
      "Loss at 361 : 0.5244484568935764\n",
      "Loss at 362 : 0.5244460611487706\n",
      "Loss at 363 : 0.5244437105526073\n",
      "Loss at 364 : 0.5244414042501884\n",
      "Loss at 365 : 0.524439141402937\n",
      "Loss at 366 : 0.5244369211882833\n",
      "Loss at 367 : 0.5244347427993538\n",
      "Loss at 368 : 0.5244326054446671\n",
      "Loss at 369 : 0.5244305083478379\n",
      "Loss at 370 : 0.5244284507472835\n",
      "Loss at 371 : 0.5244264318959385\n",
      "Loss at 372 : 0.5244244510609751\n",
      "Loss at 373 : 0.5244225075235266\n",
      "Loss at 374 : 0.5244206005784197\n",
      "Loss at 375 : 0.5244187295339098\n",
      "Loss at 376 : 0.524416893711421\n",
      "Loss at 377 : 0.5244150924452943\n",
      "Loss at 378 : 0.5244133250825376\n",
      "Loss at 379 : 0.5244115909825815\n",
      "Loss at 380 : 0.5244098895170408\n",
      "Loss at 381 : 0.5244082200694803\n",
      "Loss at 382 : 0.5244065820351841\n",
      "Loss at 383 : 0.5244049748209307\n",
      "Loss at 384 : 0.5244033978447725\n",
      "Loss at 385 : 0.5244018505358187\n",
      "Loss at 386 : 0.5244003323340226\n",
      "Loss at 387 : 0.5243988426899745\n",
      "Loss at 388 : 0.5243973810646968\n",
      "Loss at 389 : 0.5243959469294436\n",
      "Loss at 390 : 0.5243945397655054\n",
      "Loss at 391 : 0.5243931590640161\n",
      "Loss at 392 : 0.5243918043257638\n",
      "Loss at 393 : 0.5243904750610074\n",
      "Loss at 394 : 0.5243891707892936\n",
      "Loss at 395 : 0.52438789103928\n",
      "Loss at 396 : 0.52438663534856\n",
      "Loss at 397 : 0.5243854032634933\n",
      "Loss at 398 : 0.5243841943390359\n",
      "Loss at 399 : 0.5243830081385782\n",
      "Loss at 400 : 0.5243818442337814\n",
      "Loss at 401 : 0.5243807022044216\n",
      "Loss at 402 : 0.524379581638233\n",
      "Loss at 403 : 0.524378482130757\n",
      "Loss at 404 : 0.5243774032851928\n",
      "Loss at 405 : 0.5243763447122509\n",
      "Loss at 406 : 0.5243753060300107\n",
      "Loss at 407 : 0.5243742868637783\n",
      "Loss at 408 : 0.5243732868459501\n",
      "Loss at 409 : 0.5243723056158773\n",
      "Loss at 410 : 0.5243713428197327\n",
      "Loss at 411 : 0.5243703981103814\n",
      "Loss at 412 : 0.524369471147253\n",
      "Loss at 413 : 0.524368561596216\n",
      "Loss at 414 : 0.5243676691294564\n",
      "Loss at 415 : 0.5243667934253563\n",
      "Loss at 416 : 0.5243659341683763\n",
      "Loss at 417 : 0.5243650910489404\n",
      "Loss at 418 : 0.5243642637633215\n",
      "Loss at 419 : 0.5243634520135309\n",
      "Loss at 420 : 0.5243626555072086\n",
      "Loss at 421 : 0.5243618739575174\n",
      "Loss at 422 : 0.5243611070830364\n",
      "Loss at 423 : 0.5243603546076587\n",
      "Loss at 424 : 0.5243596162604912\n",
      "Loss at 425 : 0.5243588917757543\n",
      "Loss at 426 : 0.5243581808926856\n",
      "Loss at 427 : 0.5243574833554441\n",
      "Loss at 428 : 0.5243567989130172\n",
      "Loss at 429 : 0.5243561273191291\n",
      "Loss at 430 : 0.52435546833215\n",
      "Loss at 431 : 0.5243548217150095\n",
      "Loss at 432 : 0.5243541872351085\n",
      "Loss at 433 : 0.5243535646642354\n",
      "Loss at 434 : 0.5243529537784827\n",
      "Loss at 435 : 0.5243523543581652\n",
      "Loss at 436 : 0.5243517661877399\n",
      "Loss at 437 : 0.5243511890557281\n",
      "Loss at 438 : 0.5243506227546372\n",
      "Loss at 439 : 0.5243500670808866\n",
      "Loss at 440 : 0.5243495218347326\n",
      "Loss at 441 : 0.524348986820196\n",
      "Loss at 442 : 0.524348461844991\n",
      "Loss at 443 : 0.5243479467204548\n",
      "Loss at 444 : 0.5243474412614795\n",
      "Loss at 445 : 0.5243469452864445\n",
      "Loss at 446 : 0.5243464586171511\n",
      "Loss at 447 : 0.5243459810787564\n",
      "Loss at 448 : 0.5243455124997116\n",
      "Loss at 449 : 0.5243450527116977\n",
      "Loss at 450 : 0.5243446015495667\n",
      "Loss at 451 : 0.5243441588512796\n",
      "Loss at 452 : 0.5243437244578485\n",
      "Loss at 453 : 0.5243432982132789\n",
      "Loss at 454 : 0.524342879964513\n",
      "Loss at 455 : 0.5243424695613746\n",
      "Loss at 456 : 0.5243420668565139\n",
      "Loss at 457 : 0.5243416717053544\n",
      "Loss at 458 : 0.5243412839660408\n",
      "Loss at 459 : 0.5243409034993876\n",
      "Loss at 460 : 0.5243405301688276\n",
      "Loss at 461 : 0.5243401638403643\n",
      "Loss at 462 : 0.5243398043825216\n",
      "Loss at 463 : 0.5243394516662974\n",
      "Loss at 464 : 0.5243391055651163\n",
      "Loss at 465 : 0.5243387659547837\n",
      "Loss at 466 : 0.5243384327134416\n",
      "Loss at 467 : 0.5243381057215236\n",
      "Loss at 468 : 0.524337784861712\n",
      "Loss at 469 : 0.5243374700188961\n",
      "Loss at 470 : 0.524337161080129\n",
      "Loss at 471 : 0.5243368579345882\n",
      "Loss at 472 : 0.5243365604735347\n",
      "Loss at 473 : 0.5243362685902745\n",
      "Loss at 474 : 0.524335982180119\n",
      "Loss at 475 : 0.5243357011403481\n",
      "Loss at 476 : 0.5243354253701725\n",
      "Loss at 477 : 0.5243351547706973\n",
      "Loss at 478 : 0.524334889244887\n",
      "Loss at 479 : 0.5243346286975297\n",
      "Loss at 480 : 0.5243343730352029\n",
      "Loss at 481 : 0.52433412216624\n",
      "Loss at 482 : 0.524333876000697\n",
      "Loss at 483 : 0.5243336344503199\n",
      "Loss at 484 : 0.5243333974285136\n",
      "Loss at 485 : 0.5243331648503093\n",
      "Loss at 486 : 0.5243329366323357\n",
      "Loss at 487 : 0.524332712692787\n",
      "Loss at 488 : 0.5243324929513948\n",
      "Loss at 489 : 0.5243322773293987\n",
      "Loss at 490 : 0.5243320657495173\n",
      "Loss at 491 : 0.5243318581359214\n",
      "Loss at 492 : 0.5243316544142063\n",
      "Loss at 493 : 0.5243314545113641\n",
      "Loss at 494 : 0.524331258355759\n",
      "Loss at 495 : 0.5243310658771001\n",
      "Loss at 496 : 0.524330877006417\n",
      "Loss at 497 : 0.5243306916760341\n",
      "Loss at 498 : 0.5243305098195469\n",
      "Loss at 499 : 0.524330331371798\n",
      "Loss at 500 : 0.5243301562688534\n",
      "Loss at 501 : 0.5243299844479796\n",
      "Loss at 502 : 0.5243298158476207\n",
      "Loss at 503 : 0.5243296504073771\n",
      "Loss at 504 : 0.524329488067983\n",
      "Loss at 505 : 0.5243293287712848\n",
      "Loss at 506 : 0.5243291724602211\n",
      "Loss at 507 : 0.5243290190788019\n",
      "Loss at 508 : 0.5243288685720877\n",
      "Loss at 509 : 0.5243287208861707\n",
      "Loss at 510 : 0.5243285759681546\n",
      "Loss at 511 : 0.5243284337661366\n",
      "Loss at 512 : 0.5243282942291876\n",
      "Loss at 513 : 0.5243281573073344\n",
      "Loss at 514 : 0.5243280229515419\n",
      "Loss at 515 : 0.5243278911136953\n",
      "Loss at 516 : 0.5243277617465826\n",
      "Loss at 517 : 0.524327634803878\n",
      "Loss at 518 : 0.5243275102401249\n",
      "Loss at 519 : 0.5243273880107199\n",
      "Loss at 520 : 0.5243272680718964\n",
      "Loss at 521 : 0.5243271503807092\n",
      "Loss at 522 : 0.5243270348950186\n",
      "Loss at 523 : 0.524326921573476\n",
      "Loss at 524 : 0.5243268103755087\n",
      "Loss at 525 : 0.5243267012613048\n",
      "Loss at 526 : 0.5243265941917995\n",
      "Loss at 527 : 0.5243264891286611\n",
      "Loss at 528 : 0.5243263860342768\n",
      "Loss at 529 : 0.5243262848717394\n",
      "Loss at 530 : 0.5243261856048346\n",
      "Loss at 531 : 0.5243260881980267\n",
      "Loss at 532 : 0.5243259926164472\n",
      "Loss at 533 : 0.5243258988258815\n",
      "Loss at 534 : 0.5243258067927568\n",
      "Loss at 535 : 0.5243257164841298\n",
      "Loss at 536 : 0.5243256278676756\n",
      "Loss at 537 : 0.5243255409116754\n",
      "Loss at 538 : 0.524325455585005\n",
      "Loss at 539 : 0.5243253718571247\n",
      "Loss at 540 : 0.5243252896980668\n",
      "Loss at 541 : 0.5243252090784263\n",
      "Loss at 542 : 0.5243251299693494\n",
      "Loss at 543 : 0.5243250523425232\n",
      "Loss at 544 : 0.5243249761701664\n",
      "Loss at 545 : 0.524324901425018\n",
      "Loss at 546 : 0.5243248280803287\n",
      "Loss at 547 : 0.5243247561098509\n",
      "Loss at 548 : 0.5243246854878286\n",
      "Loss at 549 : 0.5243246161889895\n",
      "Loss at 550 : 0.524324548188535\n",
      "Loss at 551 : 0.5243244814621312\n",
      "Loss at 552 : 0.5243244159859007\n",
      "Loss at 553 : 0.524324351736414\n",
      "Loss at 554 : 0.5243242886906806\n",
      "Loss at 555 : 0.5243242268261414\n",
      "Loss at 556 : 0.5243241661206601\n",
      "Loss at 557 : 0.5243241065525153\n",
      "Loss at 558 : 0.5243240481003929\n",
      "Loss at 559 : 0.524323990743379\n",
      "Loss at 560 : 0.524323934460951\n",
      "Loss at 561 : 0.5243238792329715\n",
      "Loss at 562 : 0.5243238250396806\n",
      "Loss at 563 : 0.524323771861689\n"
     ]
    },
    {
     "name": "stdout",
     "output_type": "stream",
     "text": [
      "Loss at 564 : 0.5243237196799702\n",
      "Loss at 565 : 0.5243236684758553\n",
      "Loss at 566 : 0.524323618231025\n",
      "Loss at 567 : 0.5243235689275033\n",
      "Loss at 568 : 0.5243235205476514\n",
      "Loss at 569 : 0.5243234730741609\n",
      "Loss at 570 : 0.5243234264900486\n",
      "Loss at 571 : 0.5243233807786483\n",
      "Loss at 572 : 0.5243233359236075\n",
      "Loss at 573 : 0.5243232919088797\n",
      "Loss at 574 : 0.5243232487187193\n",
      "Loss at 575 : 0.5243232063376755\n",
      "Loss at 576 : 0.5243231647505877\n",
      "Loss at 577 : 0.5243231239425791\n",
      "Loss at 578 : 0.5243230838990518\n",
      "Loss at 579 : 0.5243230446056815\n",
      "Loss at 580 : 0.5243230060484126\n",
      "Loss at 581 : 0.5243229682134527\n",
      "Loss at 582 : 0.5243229310872681\n",
      "Loss at 583 : 0.5243228946565786\n",
      "Loss at 584 : 0.5243228589083527\n",
      "Loss at 585 : 0.5243228238298039\n",
      "Loss at 586 : 0.5243227894083846\n",
      "Loss at 587 : 0.5243227556317828\n",
      "Loss at 588 : 0.5243227224879168\n",
      "Loss at 589 : 0.5243226899649319\n",
      "Loss at 590 : 0.5243226580511954\n",
      "Loss at 591 : 0.5243226267352918\n",
      "Loss at 592 : 0.5243225960060213\n",
      "Loss at 593 : 0.5243225658523922\n",
      "Loss at 594 : 0.5243225362636197\n",
      "Loss at 595 : 0.524322507229121\n",
      "Loss at 596 : 0.5243224787385118\n",
      "Loss at 597 : 0.5243224507816018\n",
      "Loss at 598 : 0.5243224233483923\n",
      "Loss at 599 : 0.5243223964290716\n",
      "Loss at 600 : 0.5243223700140122\n",
      "Loss at 601 : 0.5243223440937665\n",
      "Loss at 602 : 0.5243223186590645\n",
      "Loss at 603 : 0.5243222937008096\n",
      "Loss at 604 : 0.5243222692100759\n",
      "Loss at 605 : 0.5243222451781043\n",
      "Loss at 606 : 0.5243222215963003\n",
      "Loss at 607 : 0.5243221984562303\n",
      "Loss at 608 : 0.5243221757496187\n",
      "Loss at 609 : 0.524322153468345\n",
      "Loss at 610 : 0.5243221316044409\n",
      "Loss at 611 : 0.5243221101500872\n",
      "Loss at 612 : 0.5243220890976114\n",
      "Loss at 613 : 0.524322068439485\n",
      "Loss at 614 : 0.5243220481683201\n",
      "Loss at 615 : 0.5243220282768675\n",
      "Loss at 616 : 0.5243220087580137\n",
      "Loss at 617 : 0.5243219896047788\n",
      "Loss at 618 : 0.5243219708103132\n",
      "Loss at 619 : 0.5243219523678959\n",
      "Loss at 620 : 0.5243219342709321\n",
      "Loss at 621 : 0.5243219165129501\n",
      "Loss at 622 : 0.5243218990875995\n",
      "Loss at 623 : 0.5243218819886494\n",
      "Loss at 624 : 0.524321865209985\n",
      "Loss at 625 : 0.5243218487456065\n",
      "Loss at 626 : 0.5243218325896263\n",
      "Loss at 627 : 0.524321816736267\n",
      "Loss at 628 : 0.52432180117986\n",
      "Loss at 629 : 0.5243217859148424\n",
      "Loss at 630 : 0.5243217709357554\n",
      "Loss at 631 : 0.524321756237243\n",
      "Loss at 632 : 0.5243217418140491\n",
      "Loss at 633 : 0.5243217276610166\n",
      "Loss at 634 : 0.5243217137730841\n",
      "Loss at 635 : 0.5243217001452863\n",
      "Loss at 636 : 0.5243216867727497\n",
      "Loss at 637 : 0.5243216736506927\n",
      "Loss at 638 : 0.5243216607744235\n",
      "Loss at 639 : 0.5243216481393377\n",
      "Loss at 640 : 0.5243216357409174\n",
      "Loss at 641 : 0.5243216235747293\n",
      "Loss at 642 : 0.5243216116364232\n",
      "Loss at 643 : 0.5243215999217306\n",
      "Loss at 644 : 0.5243215884264624\n",
      "Loss at 645 : 0.5243215771465086\n",
      "Loss at 646 : 0.5243215660778359\n",
      "Loss at 647 : 0.5243215552164863\n",
      "Loss at 648 : 0.5243215445585767\n",
      "Loss at 649 : 0.5243215341002959\n",
      "Loss at 650 : 0.5243215238379048\n",
      "Loss at 651 : 0.5243215137677338\n",
      "Loss at 652 : 0.5243215038861823\n",
      "Loss at 653 : 0.5243214941897172\n",
      "Loss at 654 : 0.5243214846748716\n",
      "Loss at 655 : 0.5243214753382434\n",
      "Loss at 656 : 0.5243214661764941\n",
      "Loss at 657 : 0.5243214571863484\n",
      "Loss at 658 : 0.5243214483645915\n",
      "Loss at 659 : 0.5243214397080693\n",
      "Loss at 660 : 0.5243214312136871\n",
      "Loss at 661 : 0.5243214228784073\n",
      "Loss at 662 : 0.52432141469925\n",
      "Loss at 663 : 0.5243214066732905\n",
      "Loss at 664 : 0.5243213987976595\n",
      "Loss at 665 : 0.5243213910695411\n",
      "Loss at 666 : 0.5243213834861723\n",
      "Loss at 667 : 0.5243213760448414\n",
      "Loss at 668 : 0.5243213687428884\n",
      "Loss at 669 : 0.524321361577702\n",
      "Loss at 670 : 0.5243213545467209\n",
      "Loss at 671 : 0.524321347647431\n",
      "Loss at 672 : 0.5243213408773657\n",
      "Loss at 673 : 0.5243213342341047\n",
      "Loss at 674 : 0.5243213277152724\n",
      "Loss at 675 : 0.5243213213185384\n",
      "Loss at 676 : 0.5243213150416157\n",
      "Loss at 677 : 0.52432130888226\n",
      "Loss at 678 : 0.5243213028382694\n",
      "Loss at 679 : 0.5243212969074826\n",
      "Loss at 680 : 0.5243212910877797\n",
      "Loss at 681 : 0.5243212853770796\n",
      "Loss at 682 : 0.5243212797733409\n",
      "Loss at 683 : 0.5243212742745599\n",
      "Loss at 684 : 0.5243212688787707\n",
      "Loss at 685 : 0.5243212635840444\n",
      "Loss at 686 : 0.5243212583884879\n",
      "Loss at 687 : 0.5243212532902436\n",
      "Loss at 688 : 0.5243212482874888\n",
      "Loss at 689 : 0.5243212433784351\n",
      "Loss at 690 : 0.5243212385613273\n",
      "Loss at 691 : 0.5243212338344433\n",
      "Loss at 692 : 0.5243212291960929\n",
      "Loss at 693 : 0.5243212246446182\n",
      "Loss at 694 : 0.5243212201783916\n",
      "Loss at 695 : 0.5243212157958166\n",
      "Loss at 696 : 0.5243212114953264\n",
      "Loss at 697 : 0.5243212072753833\n",
      "Loss at 698 : 0.5243212031344788\n",
      "Loss at 699 : 0.5243211990711326\n",
      "Loss at 700 : 0.5243211950838916\n",
      "Loss at 701 : 0.5243211911713308\n",
      "Loss at 702 : 0.524321187332051\n",
      "Loss at 703 : 0.5243211835646798\n",
      "Loss at 704 : 0.5243211798678704\n",
      "Loss at 705 : 0.5243211762403013\n",
      "Loss at 706 : 0.5243211726806751\n",
      "Loss at 707 : 0.5243211691877198\n",
      "Loss at 708 : 0.5243211657601862\n",
      "Loss at 709 : 0.5243211623968491\n",
      "Loss at 710 : 0.5243211590965062\n",
      "Loss at 711 : 0.5243211558579775\n",
      "Loss at 712 : 0.5243211526801052\n",
      "Loss at 713 : 0.5243211495617534\n",
      "Loss at 714 : 0.524321146501807\n",
      "Loss at 715 : 0.524321143499172\n",
      "Loss at 716 : 0.5243211405527752\n",
      "Loss at 717 : 0.5243211376615632\n",
      "Loss at 718 : 0.5243211348245025\n",
      "Loss at 719 : 0.5243211320405786\n",
      "Loss at 720 : 0.5243211293087963\n",
      "Loss at 721 : 0.524321126628179\n",
      "Loss at 722 : 0.5243211239977686\n",
      "Loss at 723 : 0.5243211214166246\n",
      "Loss at 724 : 0.524321118883824\n",
      "Loss at 725 : 0.5243211163984617\n",
      "Loss at 726 : 0.5243211139596489\n",
      "Loss at 727 : 0.5243211115665138\n",
      "Loss at 728 : 0.5243211092182011\n",
      "Loss at 729 : 0.5243211069138709\n",
      "Loss at 730 : 0.5243211046526997\n",
      "Loss at 731 : 0.5243211024338791\n",
      "Loss at 732 : 0.5243211002566157\n",
      "Loss at 733 : 0.5243210981201313\n",
      "Loss at 734 : 0.5243210960236623\n",
      "Loss at 735 : 0.5243210939664588\n",
      "Loss at 736 : 0.5243210919477855\n",
      "Loss at 737 : 0.5243210899669208\n",
      "Loss at 738 : 0.5243210880231568\n",
      "Loss at 739 : 0.5243210861157982\n",
      "Loss at 740 : 0.5243210842441633\n",
      "Loss at 741 : 0.5243210824075831\n",
      "Loss at 742 : 0.5243210806054008\n",
      "Loss at 743 : 0.5243210788369724\n",
      "Loss at 744 : 0.5243210771016656\n",
      "Loss at 745 : 0.5243210753988602\n",
      "Loss at 746 : 0.524321073727947\n",
      "Loss at 747 : 0.524321072088329\n",
      "Loss at 748 : 0.5243210704794201\n",
      "Loss at 749 : 0.5243210689006451\n",
      "Loss at 750 : 0.5243210673514395\n",
      "Loss at 751 : 0.5243210658312495\n",
      "Loss at 752 : 0.5243210643395316\n",
      "Loss at 753 : 0.5243210628757526\n",
      "Loss at 754 : 0.5243210614393893\n",
      "Loss at 755 : 0.5243210600299282\n",
      "Loss at 756 : 0.5243210586468652\n",
      "Loss at 757 : 0.5243210572897061\n",
      "Loss at 758 : 0.5243210559579656\n",
      "Loss at 759 : 0.5243210546511679\n",
      "Loss at 760 : 0.5243210533688454\n",
      "Loss at 761 : 0.52432105211054\n",
      "Loss at 762 : 0.5243210508758017\n",
      "Loss at 763 : 0.5243210496641892\n",
      "Loss at 764 : 0.5243210484752694\n",
      "Loss at 765 : 0.5243210473086172\n",
      "Loss at 766 : 0.5243210461638156\n",
      "Loss at 767 : 0.5243210450404554\n",
      "Loss at 768 : 0.5243210439381348\n",
      "Loss at 769 : 0.5243210428564599\n",
      "Loss at 770 : 0.5243210417950439\n",
      "Loss at 771 : 0.5243210407535075\n",
      "Loss at 772 : 0.5243210397314783\n",
      "Loss at 773 : 0.5243210387285909\n",
      "Loss at 774 : 0.5243210377444869\n",
      "Loss at 775 : 0.5243210367788145\n",
      "Loss at 776 : 0.5243210358312282\n",
      "Loss at 777 : 0.5243210349013897\n",
      "Loss at 778 : 0.5243210339889662\n",
      "Loss at 779 : 0.5243210330936318\n",
      "Loss at 780 : 0.5243210322150662\n",
      "Loss at 781 : 0.5243210313529558\n",
      "Loss at 782 : 0.5243210305069916\n",
      "Loss at 783 : 0.5243210296768721\n",
      "Loss at 784 : 0.5243210288622998\n",
      "Loss at 785 : 0.5243210280629839\n",
      "Loss at 786 : 0.5243210272786385\n",
      "Loss at 787 : 0.5243210265089833\n",
      "Loss at 788 : 0.5243210257537432\n",
      "Loss at 789 : 0.524321025012648\n",
      "Loss at 790 : 0.524321024285433\n",
      "Loss at 791 : 0.5243210235718382\n",
      "Loss at 792 : 0.5243210228716084\n",
      "Loss at 793 : 0.5243210221844933\n",
      "Loss at 794 : 0.5243210215102474\n",
      "Loss at 795 : 0.5243210208486295\n",
      "Loss at 796 : 0.5243210201994033\n",
      "Loss at 797 : 0.5243210195623363\n",
      "Loss at 798 : 0.5243210189372014\n",
      "Loss at 799 : 0.5243210183237745\n",
      "Loss at 800 : 0.5243210177218368\n",
      "Loss at 801 : 0.5243210171311727\n",
      "Loss at 802 : 0.5243210165515715\n",
      "Loss at 803 : 0.5243210159828254\n",
      "Loss at 804 : 0.5243210154247316\n",
      "Loss at 805 : 0.5243210148770906\n",
      "Loss at 806 : 0.5243210143397062\n",
      "Loss at 807 : 0.5243210138123868\n",
      "Loss at 808 : 0.5243210132949434\n",
      "Loss at 809 : 0.5243210127871913\n",
      "Loss at 810 : 0.5243210122889492\n",
      "Loss at 811 : 0.5243210118000385\n",
      "Loss at 812 : 0.5243210113202849\n",
      "Loss at 813 : 0.5243210108495165\n",
      "Loss at 814 : 0.5243210103875653\n",
      "Loss at 815 : 0.524321009934266\n",
      "Loss at 816 : 0.5243210094894567\n",
      "Loss at 817 : 0.5243210090529781\n",
      "Loss at 818 : 0.5243210086246745\n",
      "Loss at 819 : 0.5243210082043928\n",
      "Loss at 820 : 0.5243210077919823\n",
      "Loss at 821 : 0.524321007387296\n",
      "Loss at 822 : 0.5243210069901892\n",
      "Loss at 823 : 0.5243210066005198\n",
      "Loss at 824 : 0.5243210062181486\n",
      "Loss at 825 : 0.524321005842939\n",
      "Loss at 826 : 0.5243210054747566\n",
      "Loss at 827 : 0.52432100511347\n",
      "Loss at 828 : 0.5243210047589498\n",
      "Loss at 829 : 0.5243210044110695\n",
      "Loss at 830 : 0.5243210040697048\n",
      "Loss at 831 : 0.5243210037347337\n",
      "Loss at 832 : 0.5243210034060362\n",
      "Loss at 833 : 0.5243210030834947\n",
      "Loss at 834 : 0.5243210027669943\n",
      "Loss at 835 : 0.5243210024564217\n",
      "Loss at 836 : 0.5243210021516658\n",
      "Loss at 837 : 0.5243210018526178\n",
      "Loss at 838 : 0.5243210015591705\n",
      "Loss at 839 : 0.5243210012712193\n",
      "Loss at 840 : 0.5243210009886611\n",
      "Loss at 841 : 0.5243210007113951\n",
      "Loss at 842 : 0.5243210004393221\n",
      "Loss at 843 : 0.5243210001723446\n",
      "Loss at 844 : 0.5243209999103674\n",
      "Loss at 845 : 0.5243209996532968\n",
      "Loss at 846 : 0.5243209994010409\n",
      "Loss at 847 : 0.5243209991535096\n",
      "Loss at 848 : 0.5243209989106142\n",
      "Loss at 849 : 0.5243209986722681\n",
      "Loss at 850 : 0.5243209984383861\n",
      "Loss at 851 : 0.5243209982088842\n",
      "Loss at 852 : 0.5243209979836809\n",
      "Loss at 853 : 0.5243209977626954\n",
      "Loss at 854 : 0.5243209975458488\n",
      "Loss at 855 : 0.5243209973330634\n",
      "Loss at 856 : 0.5243209971242634\n",
      "Loss at 857 : 0.5243209969193741\n"
     ]
    },
    {
     "name": "stdout",
     "output_type": "stream",
     "text": [
      "Loss at 858 : 0.524320996718322\n",
      "Loss at 859 : 0.5243209965210355\n",
      "Loss at 860 : 0.524320996327444\n",
      "Loss at 861 : 0.5243209961374783\n",
      "Loss at 862 : 0.5243209959510704\n",
      "Loss at 863 : 0.5243209957681539\n",
      "Loss at 864 : 0.5243209955886632\n",
      "Loss at 865 : 0.5243209954125341\n",
      "Loss at 866 : 0.5243209952397039\n",
      "Loss at 867 : 0.5243209950701107\n",
      "Loss at 868 : 0.5243209949036937\n",
      "Loss at 869 : 0.5243209947403934\n",
      "Loss at 870 : 0.5243209945801517\n",
      "Loss at 871 : 0.5243209944229111\n",
      "Loss at 872 : 0.5243209942686154\n",
      "Loss at 873 : 0.5243209941172098\n",
      "Loss at 874 : 0.5243209939686397\n",
      "Loss at 875 : 0.5243209938228522\n",
      "Loss at 876 : 0.5243209936797953\n",
      "Loss at 877 : 0.5243209935394175\n",
      "Loss at 878 : 0.524320993401669\n",
      "Loss at 879 : 0.5243209932665004\n",
      "Loss at 880 : 0.5243209931338633\n",
      "Loss at 881 : 0.5243209930037104\n",
      "Loss at 882 : 0.5243209928759951\n",
      "Loss at 883 : 0.5243209927506718\n",
      "Loss at 884 : 0.5243209926276956\n",
      "Loss at 885 : 0.5243209925070229\n",
      "Loss at 886 : 0.52432099238861\n",
      "Loss at 887 : 0.5243209922724151\n",
      "Loss at 888 : 0.5243209921583963\n",
      "Loss at 889 : 0.524320992046513\n",
      "Loss at 890 : 0.5243209919367252\n",
      "Loss at 891 : 0.5243209918289935\n",
      "Loss at 892 : 0.5243209917232795\n",
      "Loss at 893 : 0.5243209916195456\n",
      "Loss at 894 : 0.5243209915177544\n",
      "Loss at 895 : 0.5243209914178697\n",
      "Loss at 896 : 0.5243209913198558\n",
      "Loss at 897 : 0.5243209912236775\n",
      "Loss at 898 : 0.5243209911293005\n",
      "Loss at 899 : 0.5243209910366913\n",
      "Loss at 900 : 0.5243209909458163\n",
      "Loss at 901 : 0.5243209908566435\n",
      "Loss at 902 : 0.5243209907691407\n",
      "Loss at 903 : 0.5243209906832769\n",
      "Loss at 904 : 0.5243209905990212\n",
      "Loss at 905 : 0.5243209905163434\n",
      "Loss at 906 : 0.5243209904352143\n",
      "Loss at 907 : 0.5243209903556044\n",
      "Loss at 908 : 0.5243209902774856\n",
      "Loss at 909 : 0.52432099020083\n",
      "Loss at 910 : 0.5243209901256102\n",
      "Loss at 911 : 0.5243209900517989\n",
      "Loss at 912 : 0.5243209899793702\n",
      "Loss at 913 : 0.5243209899082979\n",
      "Loss at 914 : 0.5243209898385568\n",
      "Loss at 915 : 0.524320989770122\n",
      "Loss at 916 : 0.5243209897029687\n",
      "Loss at 917 : 0.5243209896370731\n",
      "Loss at 918 : 0.5243209895724118\n",
      "Loss at 919 : 0.5243209895089616\n",
      "Loss at 920 : 0.5243209894466996\n",
      "Loss at 921 : 0.5243209893856038\n",
      "Loss at 922 : 0.5243209893256522\n",
      "Loss at 923 : 0.5243209892668236\n",
      "Loss at 924 : 0.5243209892090966\n",
      "Loss at 925 : 0.5243209891524507\n",
      "Loss at 926 : 0.5243209890968661\n",
      "Loss at 927 : 0.5243209890423223\n",
      "Loss at 928 : 0.5243209889888001\n",
      "Loss at 929 : 0.5243209889362802\n",
      "Loss at 930 : 0.524320988884744\n",
      "Loss at 931 : 0.524320988834173\n",
      "Loss at 932 : 0.5243209887845494\n",
      "Loss at 933 : 0.5243209887358549\n",
      "Loss at 934 : 0.5243209886880726\n",
      "Loss at 935 : 0.5243209886411851\n",
      "Loss at 936 : 0.5243209885951758\n",
      "Loss at 937 : 0.5243209885500282\n",
      "Loss at 938 : 0.5243209885057262\n",
      "Loss at 939 : 0.5243209884622538\n",
      "Loss at 940 : 0.5243209884195956\n",
      "Loss at 941 : 0.5243209883777367\n",
      "Loss at 942 : 0.5243209883366614\n",
      "Loss at 943 : 0.5243209882963555\n",
      "Loss at 944 : 0.5243209882568045\n",
      "Loss at 945 : 0.5243209882179943\n",
      "Loss at 946 : 0.5243209881799109\n",
      "Loss at 947 : 0.5243209881425408\n",
      "Loss at 948 : 0.5243209881058707\n",
      "Loss at 949 : 0.5243209880698873\n",
      "Loss at 950 : 0.5243209880345778\n",
      "Loss at 951 : 0.5243209879999297\n",
      "Loss at 952 : 0.5243209879659304\n",
      "Loss at 953 : 0.524320987932568\n",
      "Loss at 954 : 0.5243209878998304\n",
      "Loss at 955 : 0.5243209878677059\n",
      "Loss at 956 : 0.5243209878361831\n",
      "Loss at 957 : 0.5243209878052507\n",
      "Loss at 958 : 0.5243209877748977\n",
      "Loss at 959 : 0.524320987745113\n",
      "Loss at 960 : 0.5243209877158863\n",
      "Loss at 961 : 0.524320987687207\n",
      "Loss at 962 : 0.5243209876590648\n",
      "Loss at 963 : 0.5243209876314495\n",
      "Loss at 964 : 0.5243209876043516\n",
      "Loss at 965 : 0.5243209875777612\n",
      "Loss at 966 : 0.5243209875516688\n",
      "Loss at 967 : 0.524320987526065\n",
      "Loss at 968 : 0.5243209875009409\n",
      "Loss at 969 : 0.5243209874762872\n",
      "Loss at 970 : 0.5243209874520954\n",
      "Loss at 971 : 0.5243209874283565\n",
      "Loss at 972 : 0.5243209874050624\n",
      "Loss at 973 : 0.5243209873822045\n",
      "Loss at 974 : 0.5243209873597745\n",
      "Loss at 975 : 0.5243209873377649\n",
      "Loss at 976 : 0.5243209873161673\n",
      "Loss at 977 : 0.5243209872949742\n",
      "Loss at 978 : 0.5243209872741782\n",
      "Loss at 979 : 0.5243209872537717\n",
      "Loss at 980 : 0.5243209872337472\n",
      "Loss at 981 : 0.5243209872140979\n",
      "Loss at 982 : 0.5243209871948165\n",
      "Loss at 983 : 0.5243209871758963\n",
      "Loss at 984 : 0.5243209871573303\n",
      "Loss at 985 : 0.5243209871391122\n",
      "Loss at 986 : 0.5243209871212352\n",
      "Loss at 987 : 0.5243209871036931\n",
      "Loss at 988 : 0.5243209870864796\n",
      "Loss at 989 : 0.5243209870695884\n",
      "Loss at 990 : 0.5243209870530136\n",
      "Loss at 991 : 0.5243209870367491\n",
      "Loss at 992 : 0.5243209870207893\n",
      "Loss at 993 : 0.5243209870051284\n",
      "Loss at 994 : 0.5243209869897609\n",
      "Loss at 995 : 0.5243209869746812\n",
      "Loss at 996 : 0.5243209869598839\n",
      "Loss at 997 : 0.5243209869453637\n",
      "Loss at 998 : 0.5243209869311155\n",
      "Loss at 999 : 0.524320986917134\n"
     ]
    }
   ],
   "source": [
    "for _ in range(1, n_iter*10):\n",
    "    yhat = np.dot(X,w)\n",
    "    \n",
    "    print(f\"Loss at {_} :\",mse(y, yhat))\n",
    "    grad  = np.dot(X.T, (y - yhat))\n",
    "\n",
    "    w+=grad * learning_rate\n",
    "    if np.allclose(grad, np.zeros_like(grad), rtol=1e-3, atol=1e-5):\n",
    "        print(\"Stopped\")\n",
    "        break"
   ]
  },
  {
   "cell_type": "markdown",
   "id": "ab0fa37c",
   "metadata": {},
   "source": [
    "### Checking residual plots"
   ]
  },
  {
   "cell_type": "code",
   "execution_count": 22,
   "id": "e963eb04",
   "metadata": {
    "ExecuteTime": {
     "end_time": "2021-08-31T02:39:10.839486Z",
     "start_time": "2021-08-31T02:39:10.835898Z"
    }
   },
   "outputs": [],
   "source": [
    "def residual_df(y, yhat):\n",
    "    res = pd.DataFrame(np.hstack([y,yhat]), columns = ['target','prediction'])\n",
    "    res['residual'] = res['target'] - res['prediction']\n",
    "    res['residual'].mean()\n",
    "    res.plot(y = 'residual', x = 'target', kind='scatter', title= 'Residual plot')\n",
    "    return res"
   ]
  },
  {
   "cell_type": "code",
   "execution_count": 23,
   "id": "96cbd2d3",
   "metadata": {
    "ExecuteTime": {
     "end_time": "2021-08-31T02:39:11.381616Z",
     "start_time": "2021-08-31T02:39:10.841333Z"
    }
   },
   "outputs": [
    {
     "data": {
      "image/png": "[encoded data removed]",
      "text/plain": [
       "<Figure size 432x288 with 1 Axes>"
      ]
     },
     "metadata": {
      "needs_background": "light"
     },
     "output_type": "display_data"
    }
   ],
   "source": [
    "res = residual_df(y,yhat)"
   ]
  },
  {
   "cell_type": "code",
   "execution_count": null,
   "id": "fcd6dd87",
   "metadata": {},
   "outputs": [],
   "source": []
  },
  {
   "cell_type": "markdown",
   "id": "defd15bf",
   "metadata": {
    "ExecuteTime": {
     "end_time": "2021-08-29T03:33:26.947637Z",
     "start_time": "2021-08-29T03:33:26.942797Z"
    }
   },
   "source": [
    "## Using normal equations to identify parameters"
   ]
  },
  {
   "cell_type": "code",
   "execution_count": 24,
   "id": "0d722cb5",
   "metadata": {
    "ExecuteTime": {
     "end_time": "2021-08-31T02:39:11.838265Z",
     "start_time": "2021-08-31T02:39:11.833108Z"
    }
   },
   "outputs": [],
   "source": [
    "w_norm = np.dot(np.linalg.inv(np.dot(X.T, X)), np.dot(X.T, y))"
   ]
  },
  {
   "cell_type": "code",
   "execution_count": 25,
   "id": "c95091f6",
   "metadata": {
    "ExecuteTime": {
     "end_time": "2021-08-31T02:39:12.084204Z",
     "start_time": "2021-08-31T02:39:12.081161Z"
    }
   },
   "outputs": [],
   "source": [
    "yhat_norm = np.dot(X, w_norm)"
   ]
  },
  {
   "cell_type": "code",
   "execution_count": 26,
   "id": "4331135c",
   "metadata": {
    "ExecuteTime": {
     "end_time": "2021-08-31T02:39:12.326172Z",
     "start_time": "2021-08-31T02:39:12.320835Z"
    }
   },
   "outputs": [
    {
     "data": {
      "text/plain": [
       "0.5243209861846072"
      ]
     },
     "execution_count": 26,
     "metadata": {},
     "output_type": "execute_result"
    }
   ],
   "source": [
    "mse(y, yhat_norm)"
   ]
  },
  {
   "cell_type": "code",
   "execution_count": 27,
   "id": "f75ea75c",
   "metadata": {
    "ExecuteTime": {
     "end_time": "2021-08-31T02:39:12.672339Z",
     "start_time": "2021-08-31T02:39:12.553030Z"
    }
   },
   "outputs": [
    {
     "data": {
      "image/png": "[encoded data removed]",
      "text/plain": [
       "<Figure size 432x288 with 1 Axes>"
      ]
     },
     "metadata": {
      "needs_background": "light"
     },
     "output_type": "display_data"
    }
   ],
   "source": [
    "res_norm = residual_df(y,yhat_norm)"
   ]
  },
  {
   "cell_type": "markdown",
   "id": "041648de",
   "metadata": {},
   "source": [
    "## Linear Regression class"
   ]
  },
  {
   "cell_type": "code",
   "execution_count": 159,
   "id": "a97451e4",
   "metadata": {
    "ExecuteTime": {
     "end_time": "2021-08-31T05:29:13.312587Z",
     "start_time": "2021-08-31T05:29:13.296997Z"
    }
   },
   "outputs": [],
   "source": [
    "class LinearRegression():\n",
    "    def __init__(self, n_iter = 1000,learning_rate = 1e-5, tol = 1e-5, normalize = True, verbose = True):\n",
    "        self.n_iter = n_iter\n",
    "        self.tol = tol\n",
    "        self.learning_rate = learning_rate\n",
    "        self.verbose = verbose\n",
    "        self.doNormalize = normalize\n",
    "        \n",
    "    def normalize(self, X):\n",
    "        return ( X - X.mean(0))/X.std(0)\n",
    "    \n",
    "    def _preprocess(self, X):\n",
    "        if self.doNormalize:\n",
    "            X = self.normalize(X)\n",
    "            \n",
    "        return np.hstack([X, np.ones_like(X[:,[1]])])\n",
    "    \n",
    "    \n",
    "    def fit(self, X, y, normal_eq = False):\n",
    "        self.y = y.reshape(-1,1)\n",
    "        self.yhat = None\n",
    "        \n",
    "        \n",
    "        # Normalize and Adding bias\n",
    "        self.X = self._preprocess(X)\n",
    "        \n",
    "        self.theta = self.init_theta =  np.random.randn(self.X.shape[1], 1)\n",
    "        \n",
    "        if normal_eq:\n",
    "            self.normal_gradient()\n",
    "        else:\n",
    "            self.gradient_descent()\n",
    "    \n",
    "    def gradient_descent(self):\n",
    "        w = self.init_theta\n",
    "        X, y = self.X, self.y\n",
    "        self.loss_res = []\n",
    "        self.theta_res = [w]\n",
    "        for _ in range(1, self.n_iter):\n",
    "            yhat = np.dot(X,w)\n",
    "            self.lastX = X\n",
    "            self.loss_res.append(self.loss(y, yhat))\n",
    "            if self.verbose:\n",
    "                print(f\"Loss at {_} :\",self.loss_res[-1])\n",
    "            \n",
    "            grad  = np.dot(X.T, (y - yhat))/X.shape[0]\n",
    "\n",
    "            nw = w + grad * self.learning_rate\n",
    "            if np.allclose(grad, np.zeros_like(grad), atol=self.tol):\n",
    "                print(\"Stopped due to no gradient change\")\n",
    "                break\n",
    "            w = nw\n",
    "            self.theta_res.append(nw)\n",
    "            \n",
    "        \n",
    "        self.yhat = yhat\n",
    "        self.theta = w\n",
    "        \n",
    "        \n",
    "    def loss(self, y, yhat):\n",
    "        if y.ndim==1:\n",
    "            y = y.reshape(-1,1)\n",
    "        if yhat.ndim== 1:\n",
    "            yhat = yhat.reshape(-1,1)\n",
    "        return np.mean((y-yhat)**2)\n",
    "    \n",
    "    def normal_gradient(self):\n",
    "        self.theta = np.dot(np.linalg.inv(np.dot(self.X.T, self.X)), np.dot(self.X.T, self.y))\n",
    "        \n",
    "    def score(self, X, y):\n",
    "        return self.loss(y,self.predict(X))\n",
    "    \n",
    "    def predict(self, X):\n",
    "        X = self._preprocess(X)\n",
    "        return np.dot(X, self.theta)\n",
    "        \n",
    "        "
   ]
  },
  {
   "cell_type": "code",
   "execution_count": 177,
   "id": "cb506cd9",
   "metadata": {
    "ExecuteTime": {
     "end_time": "2021-08-31T05:31:42.439179Z",
     "start_time": "2021-08-31T05:31:42.246663Z"
    }
   },
   "outputs": [],
   "source": [
    "l = LinearRegression(verbose=False, learning_rate=0.05)\n",
    "\n",
    "l.fit(raw_data_dict['data'], raw_data_dict['target'], normal_eq=False)"
   ]
  },
  {
   "cell_type": "code",
   "execution_count": 178,
   "id": "69713023",
   "metadata": {
    "ExecuteTime": {
     "end_time": "2021-08-31T05:31:43.108956Z",
     "start_time": "2021-08-31T05:31:42.967164Z"
    }
   },
   "outputs": [
    {
     "data": {
      "text/plain": [
       "Text(0, 0.5, 'Cost')"
      ]
     },
     "execution_count": 178,
     "metadata": {},
     "output_type": "execute_result"
    },
    {
     "data": {
      "image/png": "[encoded data removed]",
      "text/plain": [
       "<Figure size 432x288 with 1 Axes>"
      ]
     },
     "metadata": {
      "needs_background": "light"
     },
     "output_type": "display_data"
    }
   ],
   "source": [
    "ax = pd.Series(l.loss_res).plot()\n",
    "\n",
    "ax.set_title('Cost Function J')\n",
    "ax.set_xlabel('No. of iterations')\n",
    "ax.set_ylabel('Cost')"
   ]
  },
  {
   "cell_type": "code",
   "execution_count": 179,
   "id": "9a6a34b6",
   "metadata": {
    "ExecuteTime": {
     "end_time": "2021-08-31T05:31:46.207394Z",
     "start_time": "2021-08-31T05:31:46.193855Z"
    }
   },
   "outputs": [
    {
     "name": "stderr",
     "output_type": "stream",
     "text": [
      "/Users/shravan.shetty/opt/anaconda3/envs/scpd/lib/python3.7/site-packages/ipykernel_launcher.py:3: FutureWarning: In a future version of pandas all arguments of concat except for the argument 'objs' will be keyword-only\n",
      "  This is separate from the ipykernel package so we can avoid doing imports until\n"
     ]
    },
    {
     "data": {
      "text/html": [
       "<div>\n",
       "<style scoped>\n",
       "    .dataframe tbody tr th:only-of-type {\n",
       "        vertical-align: middle;\n",
       "    }\n",
       "\n",
       "    .dataframe tbody tr th {\n",
       "        vertical-align: top;\n",
       "    }\n",
       "\n",
       "    .dataframe thead th {\n",
       "        text-align: right;\n",
       "    }\n",
       "</style>\n",
       "<table border=\"1\" class=\"dataframe\">\n",
       "  <thead>\n",
       "    <tr style=\"text-align: right;\">\n",
       "      <th></th>\n",
       "      <th>target</th>\n",
       "      <th>predict</th>\n",
       "    </tr>\n",
       "  </thead>\n",
       "  <tbody>\n",
       "    <tr>\n",
       "      <th>0</th>\n",
       "      <td>4.526</td>\n",
       "      <td>4.142965</td>\n",
       "    </tr>\n",
       "    <tr>\n",
       "      <th>1</th>\n",
       "      <td>3.585</td>\n",
       "      <td>3.986269</td>\n",
       "    </tr>\n",
       "    <tr>\n",
       "      <th>2</th>\n",
       "      <td>3.521</td>\n",
       "      <td>3.669427</td>\n",
       "    </tr>\n",
       "    <tr>\n",
       "      <th>3</th>\n",
       "      <td>3.413</td>\n",
       "      <td>3.246808</td>\n",
       "    </tr>\n",
       "    <tr>\n",
       "      <th>4</th>\n",
       "      <td>3.422</td>\n",
       "      <td>2.395212</td>\n",
       "    </tr>\n",
       "  </tbody>\n",
       "</table>\n",
       "</div>"
      ],
      "text/plain": [
       "   target   predict\n",
       "0   4.526  4.142965\n",
       "1   3.585  3.986269\n",
       "2   3.521  3.669427\n",
       "3   3.413  3.246808\n",
       "4   3.422  2.395212"
      ]
     },
     "execution_count": 179,
     "metadata": {},
     "output_type": "execute_result"
    }
   ],
   "source": [
    "pd.concat([pd.Series(raw_data_dict['target'], name='target'),\n",
    "           pd.Series(l.predict(raw_data_dict['data']).ravel(), name='predict')\n",
    "           ], 1).head()"
   ]
  },
  {
   "cell_type": "code",
   "execution_count": 180,
   "id": "86ad51f6",
   "metadata": {
    "ExecuteTime": {
     "end_time": "2021-08-31T05:31:47.328304Z",
     "start_time": "2021-08-31T05:31:47.322188Z"
    }
   },
   "outputs": [
    {
     "name": "stdout",
     "output_type": "stream",
     "text": [
      "Training score:  0.524953080166082\n"
     ]
    }
   ],
   "source": [
    "print(\"Training score: \", l.score( raw_data_dict['data'], raw_data_dict['target']))"
   ]
  },
  {
   "cell_type": "markdown",
   "id": "217ff5c9",
   "metadata": {},
   "source": [
    "## Regularized Linear Regression"
   ]
  },
  {
   "cell_type": "code",
   "execution_count": 172,
   "id": "eb7e2809",
   "metadata": {
    "ExecuteTime": {
     "end_time": "2021-08-31T05:30:49.936571Z",
     "start_time": "2021-08-31T05:30:49.921430Z"
    }
   },
   "outputs": [],
   "source": [
    "class RegularizedLR():\n",
    "    def __init__(self, n_iter = 1000,reg_param = 0.1, learning_rate = 1e-5, tol = 1e-5, normalize = True, verbose = True):\n",
    "        self.n_iter = n_iter\n",
    "        self.tol = tol\n",
    "        self.learning_rate = learning_rate\n",
    "        self.verbose = print if verbose else lambda *X: None\n",
    "        self.doNormalize = normalize\n",
    "        self.reg_param = reg_param\n",
    "        \n",
    "        \n",
    "    def normalize(self, X):\n",
    "        return ( X - X.mean(0))/X.std(0)\n",
    "    \n",
    "    def _preprocess(self, X):\n",
    "        if self.doNormalize:\n",
    "            X = self.normalize(X)\n",
    "            \n",
    "        return np.hstack([X, np.ones_like(X[:,[1]])])\n",
    "    \n",
    "    \n",
    "    def fit(self, X, y, normal_eq = False):\n",
    "        self.y = y.reshape(-1,1)\n",
    "        self.yhat = None\n",
    "        \n",
    "        \n",
    "        # Normalize and Adding bias\n",
    "        self.X = self._preprocess(X)\n",
    "        \n",
    "        self.theta = self.init_theta =  np.random.randn(self.X.shape[1], 1)\n",
    "        \n",
    "        if normal_eq:\n",
    "            self.normal_gradient()\n",
    "        else:\n",
    "            self.gradient_descent()\n",
    "    \n",
    "    def gradient_descent(self):\n",
    "        w = self.init_theta\n",
    "        X, y = self.X, self.y\n",
    "        \n",
    "        for _ in range(1, self.n_iter):\n",
    "            yhat = np.dot(X,w)\n",
    "            self.verbose(f\"Loss at {_} :\",self.loss(y, yhat))\n",
    "#                 self.verbose(\"Yhat shape, wshape: \", yhat.shape, w.shape)\n",
    "            \n",
    "            reg_w = w.copy()\n",
    "            reg_w[-1] = [0]\n",
    "            grad  =  (np.dot(X.T, (y - yhat))  + self.reg_param * reg_w)/X.shape[0]\n",
    "\n",
    "            nw = w + grad * self.learning_rate \n",
    "            \n",
    "            if np.allclose(grad, np.zeros_like(grad),rtol = self.tol , atol=self.tol):\n",
    "                self.verbose(\"Stopped due to no gradient change\")\n",
    "                break\n",
    "            w = nw\n",
    "        \n",
    "        self.yhat = yhat\n",
    "        self.theta = w\n",
    "        \n",
    "        \n",
    "    def loss(self, y, yhat):\n",
    "        if y.ndim==1:\n",
    "            y = y.reshape(-1,1)\n",
    "        if yhat.ndim== 1:\n",
    "            yhat = yhat.reshape(-1,1)\n",
    "        return np.mean((y-yhat)**2)\n",
    "    \n",
    "    def normal_gradient(self):\n",
    "        self.theta = np.dot(np.linalg.inv(np.dot(X.T, X)), np.dot(X.T, y))\n",
    "        \n",
    "    def score(self, X, y):\n",
    "        return self.loss(y,self.predict(X))\n",
    "    \n",
    "    def predict(self, X):\n",
    "        \n",
    "        return np.dot(self._preprocess(X), self.theta)\n",
    "        \n",
    "        "
   ]
  },
  {
   "cell_type": "code",
   "execution_count": 173,
   "id": "f44963df",
   "metadata": {
    "ExecuteTime": {
     "end_time": "2021-08-31T05:30:51.982074Z",
     "start_time": "2021-08-31T05:30:51.811573Z"
    }
   },
   "outputs": [],
   "source": [
    "r = RegularizedLR(reg_param = .1,learning_rate=0.1, verbose=False)\n",
    "\n",
    "r.fit(raw_data_dict['data'], raw_data_dict['target'])"
   ]
  },
  {
   "cell_type": "code",
   "execution_count": 174,
   "id": "d74ca115",
   "metadata": {
    "ExecuteTime": {
     "end_time": "2021-08-31T05:30:52.244934Z",
     "start_time": "2021-08-31T05:30:52.232666Z"
    }
   },
   "outputs": [
    {
     "name": "stderr",
     "output_type": "stream",
     "text": [
      "/Users/shravan.shetty/opt/anaconda3/envs/scpd/lib/python3.7/site-packages/ipykernel_launcher.py:3: FutureWarning: In a future version of pandas all arguments of concat except for the argument 'objs' will be keyword-only\n",
      "  This is separate from the ipykernel package so we can avoid doing imports until\n"
     ]
    },
    {
     "data": {
      "text/html": [
       "<div>\n",
       "<style scoped>\n",
       "    .dataframe tbody tr th:only-of-type {\n",
       "        vertical-align: middle;\n",
       "    }\n",
       "\n",
       "    .dataframe tbody tr th {\n",
       "        vertical-align: top;\n",
       "    }\n",
       "\n",
       "    .dataframe thead th {\n",
       "        text-align: right;\n",
       "    }\n",
       "</style>\n",
       "<table border=\"1\" class=\"dataframe\">\n",
       "  <thead>\n",
       "    <tr style=\"text-align: right;\">\n",
       "      <th></th>\n",
       "      <th>target</th>\n",
       "      <th>predict</th>\n",
       "    </tr>\n",
       "  </thead>\n",
       "  <tbody>\n",
       "    <tr>\n",
       "      <th>0</th>\n",
       "      <td>4.526</td>\n",
       "      <td>4.132658</td>\n",
       "    </tr>\n",
       "    <tr>\n",
       "      <th>1</th>\n",
       "      <td>3.585</td>\n",
       "      <td>3.977893</td>\n",
       "    </tr>\n",
       "    <tr>\n",
       "      <th>2</th>\n",
       "      <td>3.521</td>\n",
       "      <td>3.675404</td>\n",
       "    </tr>\n",
       "    <tr>\n",
       "      <th>3</th>\n",
       "      <td>3.413</td>\n",
       "      <td>3.242177</td>\n",
       "    </tr>\n",
       "    <tr>\n",
       "      <th>4</th>\n",
       "      <td>3.422</td>\n",
       "      <td>2.411942</td>\n",
       "    </tr>\n",
       "  </tbody>\n",
       "</table>\n",
       "</div>"
      ],
      "text/plain": [
       "   target   predict\n",
       "0   4.526  4.132658\n",
       "1   3.585  3.977893\n",
       "2   3.521  3.675404\n",
       "3   3.413  3.242177\n",
       "4   3.422  2.411942"
      ]
     },
     "execution_count": 174,
     "metadata": {},
     "output_type": "execute_result"
    }
   ],
   "source": [
    "pd.concat([pd.Series(raw_data_dict['target'], name='target'),\n",
    "           pd.Series(r.predict(raw_data_dict['data']).ravel(), name='predict')\n",
    "           ], 1).head()"
   ]
  },
  {
   "cell_type": "code",
   "execution_count": 176,
   "id": "173a28ec",
   "metadata": {
    "ExecuteTime": {
     "end_time": "2021-08-31T05:31:04.308734Z",
     "start_time": "2021-08-31T05:31:04.302787Z"
    }
   },
   "outputs": [
    {
     "name": "stdout",
     "output_type": "stream",
     "text": [
      "Training score:  0.5243235136830284\n"
     ]
    }
   ],
   "source": [
    "print(\"Training score: \", r.score( raw_data_dict['data'], raw_data_dict['target']))"
   ]
  },
  {
   "cell_type": "code",
   "execution_count": null,
   "id": "1d658928",
   "metadata": {},
   "outputs": [],
   "source": []
  }
 ],
 "metadata": {
  "kernelspec": {
   "display_name": "Python 3 (ipykernel)",
   "language": "python",
   "name": "python3"
  },
  "language_info": {
   "codemirror_mode": {
    "name": "ipython",
    "version": 3
   },
   "file_extension": ".py",
   "mimetype": "text/x-python",
   "name": "python",
   "nbconvert_exporter": "python",
   "pygments_lexer": "ipython3",
   "version": "3.7.10"
  },
  "toc": {
   "base_numbering": 1,
   "nav_menu": {},
   "number_sections": true,
   "sideBar": true,
   "skip_h1_title": false,
   "title_cell": "Table of Contents",
   "title_sidebar": "Contents",
   "toc_cell": true,
   "toc_position": {},
   "toc_section_display": true,
   "toc_window_display": true
  }
 },
 "nbformat": 4,
 "nbformat_minor": 5
}
